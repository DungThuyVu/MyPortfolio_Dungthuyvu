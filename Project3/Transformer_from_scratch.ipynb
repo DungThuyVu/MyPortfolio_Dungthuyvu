{
  "nbformat": 4,
  "nbformat_minor": 0,
  "metadata": {
    "colab": {
      "provenance": [],
      "machine_shape": "hm",
      "gpuType": "T4"
    },
    "kernelspec": {
      "name": "python3",
      "display_name": "Python 3"
    },
    "language_info": {
      "name": "python"
    },
    "accelerator": "GPU"
  },
  "cells": [
    {
      "cell_type": "code",
      "execution_count": null,
      "metadata": {
        "id": "b8GCXmuUqBHp"
      },
      "outputs": [],
      "source": [
        "!mkdir -p ~/.kaggle\n",
        "#!cp kaggle.json ~/.kaggle\n",
        "#!chmod 600 ~/.kaggle/kaggle.json\n",
        "!cp /content/'kaggle.json' ~/.kaggle/kaggle.json\n",
        "!chmod 600 ~/.kaggle/kaggle.json"
      ]
    },
    {
      "cell_type": "code",
      "source": [
        "# API for fetching data to Kaggle :\n",
        "!kaggle datasets download -d bittlingmayer/amazonreviews"
      ],
      "metadata": {
        "id": "WNF9AaVfqMY0",
        "colab": {
          "base_uri": "https://localhost:8080/"
        },
        "outputId": "d263845d-ac67-4f0e-aa7e-de9b24634992"
      },
      "execution_count": null,
      "outputs": [
        {
          "output_type": "stream",
          "name": "stdout",
          "text": [
            "Dataset URL: https://www.kaggle.com/datasets/bittlingmayer/amazonreviews\n",
            "License(s): unknown\n",
            "Downloading amazonreviews.zip to /content\n",
            " 99% 487M/493M [00:03<00:00, 211MB/s]\n",
            "100% 493M/493M [00:03<00:00, 148MB/s]\n"
          ]
        }
      ]
    },
    {
      "cell_type": "code",
      "source": [
        "from zipfile import ZipFile\n",
        "Amazonedata = '/content/amazonreviews.zip'\n",
        "with ZipFile(Amazonedata, 'r') as zip:\n",
        "  zip.extractall()\n",
        "  print('Amazone data has been extracted')"
      ],
      "metadata": {
        "id": "_KTC3idmqMb8",
        "colab": {
          "base_uri": "https://localhost:8080/"
        },
        "outputId": "dd4edc6a-0dcd-4a7b-e4ed-81677dc93ea6"
      },
      "execution_count": null,
      "outputs": [
        {
          "output_type": "stream",
          "name": "stdout",
          "text": [
            "Amazone data has been extracted\n"
          ]
        }
      ]
    },
    {
      "cell_type": "code",
      "source": [
        "import tensorflow as tf\n",
        "print(tf.__version__)"
      ],
      "metadata": {
        "id": "N5IZGqjnqMey",
        "colab": {
          "base_uri": "https://localhost:8080/"
        },
        "outputId": "3ed3d8a2-8401-4153-e657-86dd2b3c7442"
      },
      "execution_count": null,
      "outputs": [
        {
          "output_type": "stream",
          "name": "stdout",
          "text": [
            "2.15.0\n"
          ]
        }
      ]
    },
    {
      "cell_type": "code",
      "source": [
        "# Importing dependency :\n",
        "import pandas as pd\n",
        "import tensorflow as tf\n",
        "import re\n",
        "import string\n",
        "from tensorflow.keras.layers.experimental.preprocessing import TextVectorization\n",
        "from tensorflow.keras.layers import Layer\n",
        "from tensorflow.keras.layers import Embedding\n",
        "import numpy as np\n",
        "from tensorflow.keras.layers import MultiHeadAttention\n",
        "from tensorflow.keras.layers import Dense\n",
        "from tensorflow.keras.layers import LayerNormalization\n",
        "from tensorflow.keras.layers import Input\n",
        "from tensorflow.keras.layers import Flatten\n",
        "import matplotlib.pyplot as plt\n",
        "\n"
      ],
      "metadata": {
        "id": "uQZVDvwyqMh6"
      },
      "execution_count": null,
      "outputs": []
    },
    {
      "cell_type": "code",
      "source": [
        "import bz2\n",
        "# Specify the path to the compressed file\n",
        "compressed_file_path = '/content/train.ft.txt.bz2'\n",
        "\n",
        "# Decompress the file and read its content\n",
        "with bz2.open(compressed_file_path, 'rt', encoding='ISO-8859-1') as f:\n",
        "    lines = f.readlines()\n",
        "\n",
        "# Parse the lines and create a list of dictionaries\n",
        "data = []\n",
        "for line in lines:\n",
        "    parts = line.strip().split(' ', 1)  # Split into label and text, with a maximum of 1 split\n",
        "    label = parts[0].replace('__label__', '')  # Remove the prefix '__label__'\n",
        "    text = parts[1]\n",
        "    data.append({'label': label, 'text': text})\n",
        "\n",
        "# Create a DataFrame from the list of dictionaries\n",
        "Amazone_train = pd.DataFrame(data)\n",
        "\n",
        "# Display the DataFrame\n",
        "print(Amazone_train.head())"
      ],
      "metadata": {
        "id": "IqghYLBBqMlE",
        "colab": {
          "base_uri": "https://localhost:8080/"
        },
        "outputId": "619f0b64-174b-482a-fbb0-6b3c700ba685"
      },
      "execution_count": null,
      "outputs": [
        {
          "output_type": "stream",
          "name": "stdout",
          "text": [
            "  label                                               text\n",
            "0     2  Stuning even for the non-gamer: This sound tra...\n",
            "1     2  The best soundtrack ever to anything.: I'm rea...\n",
            "2     2  Amazing!: This soundtrack is my favorite music...\n",
            "3     2  Excellent Soundtrack: I truly like this soundt...\n",
            "4     2  Remember, Pull Your Jaw Off The Floor After He...\n"
          ]
        }
      ]
    },
    {
      "cell_type": "code",
      "source": [
        "Amazone_train_short = Amazone_train.head(100000)\n",
        "print(Amazone_train_short.shape)"
      ],
      "metadata": {
        "colab": {
          "base_uri": "https://localhost:8080/"
        },
        "id": "UJeHkrjbsjLg",
        "outputId": "62879f2e-8e3d-423a-90a3-a1c79889ef59"
      },
      "execution_count": null,
      "outputs": [
        {
          "output_type": "stream",
          "name": "stdout",
          "text": [
            "(100000, 2)\n"
          ]
        }
      ]
    },
    {
      "cell_type": "code",
      "source": [
        "# Convert label values from strings to integers and subtract 1\n",
        "Amazone_train_short['label'] = Amazone_train_short['label'].astype(int) - 1\n",
        "\n",
        "# Update the 'label' column in the DataFrame with the modified values\n",
        "Amazone_train_short['label'] = Amazone_train_short['label'].values\n"
      ],
      "metadata": {
        "colab": {
          "base_uri": "https://localhost:8080/"
        },
        "id": "nAKxeWyssjOQ",
        "outputId": "561a031b-00f6-43d4-a442-383de25f17b1"
      },
      "execution_count": null,
      "outputs": [
        {
          "output_type": "stream",
          "name": "stderr",
          "text": [
            "<ipython-input-7-6a109cd72877>:2: SettingWithCopyWarning: \n",
            "A value is trying to be set on a copy of a slice from a DataFrame.\n",
            "Try using .loc[row_indexer,col_indexer] = value instead\n",
            "\n",
            "See the caveats in the documentation: https://pandas.pydata.org/pandas-docs/stable/user_guide/indexing.html#returning-a-view-versus-a-copy\n",
            "  Amazone_train_short['label'] = Amazone_train_short['label'].astype(int) - 1\n",
            "<ipython-input-7-6a109cd72877>:5: SettingWithCopyWarning: \n",
            "A value is trying to be set on a copy of a slice from a DataFrame.\n",
            "Try using .loc[row_indexer,col_indexer] = value instead\n",
            "\n",
            "See the caveats in the documentation: https://pandas.pydata.org/pandas-docs/stable/user_guide/indexing.html#returning-a-view-versus-a-copy\n",
            "  Amazone_train_short['label'] = Amazone_train_short['label'].values\n"
          ]
        }
      ]
    },
    {
      "cell_type": "markdown",
      "source": [
        "#### starting to connect from here"
      ],
      "metadata": {
        "id": "xTTAHFBZocak"
      }
    },
    {
      "cell_type": "markdown",
      "source": [
        "# Creating dataset for Tranformer model"
      ],
      "metadata": {
        "id": "7mQtoz4goif3"
      }
    },
    {
      "cell_type": "code",
      "source": [
        "dataset = tf.data.Dataset.from_tensor_slices((Amazone_train_short['text'].values, Amazone_train_short['label'].values))\n",
        "# Check the element_spec of the dataset\n",
        "print(dataset.element_spec)"
      ],
      "metadata": {
        "colab": {
          "base_uri": "https://localhost:8080/"
        },
        "id": "fnkQhdfXsjRJ",
        "outputId": "3853528c-4815-4b06-95d8-79f1b131f80b"
      },
      "execution_count": null,
      "outputs": [
        {
          "output_type": "stream",
          "name": "stdout",
          "text": [
            "(TensorSpec(shape=(), dtype=tf.string, name=None), TensorSpec(shape=(), dtype=tf.int64, name=None))\n"
          ]
        }
      ]
    },
    {
      "cell_type": "code",
      "source": [
        "print(dataset.take(1))"
      ],
      "metadata": {
        "colab": {
          "base_uri": "https://localhost:8080/"
        },
        "id": "gspcqfeEsjTx",
        "outputId": "eb407274-41fa-4a0d-ad62-d08a62a3cdcf"
      },
      "execution_count": null,
      "outputs": [
        {
          "output_type": "stream",
          "name": "stdout",
          "text": [
            "<_TakeDataset element_spec=(TensorSpec(shape=(), dtype=tf.string, name=None), TensorSpec(shape=(), dtype=tf.int64, name=None))>\n"
          ]
        }
      ]
    },
    {
      "cell_type": "code",
      "source": [
        "# Data processing for tranformer\n",
        "def standardization(input_data):\n",
        "    '''\n",
        "    Input: raw reviews\n",
        "    output: standardized reviews\n",
        "    '''\n",
        "    lowercase=tf.strings.lower(input_data)\n",
        "    no_tag=tf.strings.regex_replace(lowercase,\"<[^>]+>\",\"\")\n",
        "    output=tf.strings.regex_replace(no_tag,\"[%s]\"%re.escape(string.punctuation),\"\")\n",
        "\n",
        "    return output"
      ],
      "metadata": {
        "id": "f8jxaVKGuw4-"
      },
      "execution_count": null,
      "outputs": []
    },
    {
      "cell_type": "code",
      "source": [
        "vectorize_layer=TextVectorization(\n",
        "    standardize=standardization,\n",
        "    max_tokens=VOCAB_SIZE,\n",
        "    output_mode='int',\n",
        "    output_sequence_length=SEQUENCE_LENGTH\n",
        ")"
      ],
      "metadata": {
        "id": "0INSJ_b8uw7o"
      },
      "execution_count": null,
      "outputs": []
    },
    {
      "cell_type": "code",
      "source": [
        "for text,label in dataset.take(2):\n",
        "  print(text)\n",
        "  print(label)"
      ],
      "metadata": {
        "colab": {
          "base_uri": "https://localhost:8080/"
        },
        "id": "amvEnh_cuw-L",
        "outputId": "beaeb6cc-9a46-4496-e4d6-c7c81a4c2055"
      },
      "execution_count": null,
      "outputs": [
        {
          "output_type": "stream",
          "name": "stdout",
          "text": [
            "tf.Tensor(b'Stuning even for the non-gamer: This sound track was beautiful! It paints the senery in your mind so well I would recomend it even to people who hate vid. game music! I have played the game Chrono Cross but out of all of the games I have ever played it has the best music! It backs away from crude keyboarding and takes a fresher step with grate guitars and soulful orchestras. It would impress anyone who cares to listen! ^_^', shape=(), dtype=string)\n",
            "tf.Tensor(1, shape=(), dtype=int64)\n",
            "tf.Tensor(b\"The best soundtrack ever to anything.: I'm reading a lot of reviews saying that this is the best 'game soundtrack' and I figured that I'd write a review to disagree a bit. This in my opinino is Yasunori Mitsuda's ultimate masterpiece. The music is timeless and I'm been listening to it for years now and its beauty simply refuses to fade.The price tag on this is pretty staggering I must say, but if you are going to buy any cd for this much money, this is the only one that I feel would be worth every penny.\", shape=(), dtype=string)\n",
            "tf.Tensor(1, shape=(), dtype=int64)\n"
          ]
        }
      ]
    },
    {
      "cell_type": "code",
      "source": [
        "# Adapt the vectorize_layer to the training data\n",
        "training_data=dataset.map(lambda x,y:x)\n",
        "vectorize_layer.adapt(training_data)"
      ],
      "metadata": {
        "id": "ELhx0LoxsjWj"
      },
      "execution_count": null,
      "outputs": []
    },
    {
      "cell_type": "code",
      "source": [
        "len(vectorize_layer.get_vocabulary())"
      ],
      "metadata": {
        "id": "gS47MXQJqMoS",
        "colab": {
          "base_uri": "https://localhost:8080/"
        },
        "outputId": "00632247-f30d-44ec-97e6-430029b1ec71"
      },
      "execution_count": null,
      "outputs": [
        {
          "output_type": "execute_result",
          "data": {
            "text/plain": [
              "10000"
            ]
          },
          "metadata": {},
          "execution_count": 67
        }
      ]
    },
    {
      "cell_type": "code",
      "source": [
        "def vectorizer(text,label):\n",
        "    return vectorize_layer(text),label"
      ],
      "metadata": {
        "id": "Aj7k3ToXqMrV"
      },
      "execution_count": null,
      "outputs": []
    },
    {
      "cell_type": "code",
      "source": [
        "train_dataset=dataset.map(vectorizer)"
      ],
      "metadata": {
        "id": "t2faDkGpwYGM"
      },
      "execution_count": null,
      "outputs": []
    },
    {
      "cell_type": "markdown",
      "source": [
        "# Splitting data for tranformer"
      ],
      "metadata": {
        "id": "yYgW9lCGpGRZ"
      }
    },
    {
      "cell_type": "code",
      "source": [
        "validation_percentage = 0.2\n",
        "# Calculate the size of the validation set\n",
        "validation_size = int(len(train_dataset) * validation_percentage)\n",
        "# Take the first validation_size samples for validation\n",
        "test_dataset = train_dataset.take(validation_size)\n",
        "# Skip the validation_size samples and take the rest for training\n",
        "train_dataset = train_dataset.skip(validation_size)\n"
      ],
      "metadata": {
        "id": "eFOsKu2qzNAh"
      },
      "execution_count": null,
      "outputs": []
    },
    {
      "cell_type": "code",
      "source": [
        "vectorize_layer.get_vocabulary()[411]"
      ],
      "metadata": {
        "colab": {
          "base_uri": "https://localhost:8080/",
          "height": 36
        },
        "id": "5tO8vif-vL3h",
        "outputId": "465328bd-1db8-4cb2-8fbc-65265d7a03b9"
      },
      "execution_count": null,
      "outputs": [
        {
          "output_type": "execute_result",
          "data": {
            "text/plain": [
              "'reader'"
            ],
            "application/vnd.google.colaboratory.intrinsic+json": {
              "type": "string"
            }
          },
          "metadata": {},
          "execution_count": 71
        }
      ]
    },
    {
      "cell_type": "code",
      "source": [
        "for review,label in train_dataset.take(1):\n",
        "  print(review)\n",
        "  print(label)"
      ],
      "metadata": {
        "colab": {
          "base_uri": "https://localhost:8080/"
        },
        "id": "i9dCv5x5vL6P",
        "outputId": "22b18949-a6e4-4366-ec05-781c6d7f20ac"
      },
      "execution_count": null,
      "outputs": [
        {
          "output_type": "stream",
          "name": "stdout",
          "text": [
            "tf.Tensor(\n",
            "[ 230   46   57    1    5   21   40   11   22 1013    5  102  547   13\n",
            "    2  230    1    1  732   20    2  145    7 1580    1    2   17   20\n",
            "    1   14 1010  639    3    1  526    2  916    7    1    1 5415    1\n",
            " 3019  359   13   14  113    1   43 3123   50    1    3    1  897 6093\n",
            "  106    4 4317   19    1    6    1    2 1521    8   44  423   13    1\n",
            " 1316    4   17    1  620   43   28  282  148    9  230   46   57    1\n",
            " 2372   19   47   56   46 5241    2  932   28   71   11    2  487   13\n",
            "    5   63  111  166    2  909 1521   62 1333  259   43   92  811  687\n",
            "   39    9  230    7  639 3580  461  138   23  932   59   10    4 1085\n",
            "   16  291   10    1    9   10   48    2    1  431   10   12    6 2058\n",
            "   66  200  932  115    2    1    7  332   13   44 3369   15   39 5703\n",
            "   34  680    3  162    0    0    0    0    0    0    0    0    0    0\n",
            "    0    0    0    0    0    0    0    0    0    0    0    0    0    0\n",
            "    0    0    0    0    0    0    0    0    0    0    0    0    0    0\n",
            "    0    0    0    0    0    0    0    0    0    0    0    0    0    0\n",
            "    0    0    0    0    0    0    0    0    0    0    0    0    0    0\n",
            "    0    0    0    0    0    0    0    0    0    0    0    0    0    0\n",
            "    0    0    0    0    0    0    0    0    0    0    0    0], shape=(250,), dtype=int64)\n",
            "tf.Tensor(0, shape=(), dtype=int64)\n"
          ]
        }
      ]
    },
    {
      "cell_type": "code",
      "source": [
        "# Creating training and testing dataset using batching and prefetch methods\n",
        "BATCH_SIZE = 32\n",
        "train_dataset=train_dataset.batch(BATCH_SIZE).prefetch(buffer_size=tf.data.AUTOTUNE)\n",
        "test_dataset=test_dataset.batch(BATCH_SIZE).prefetch(buffer_size=tf.data.AUTOTUNE)"
      ],
      "metadata": {
        "id": "oIm9R-TFvMCB"
      },
      "execution_count": null,
      "outputs": []
    },
    {
      "cell_type": "markdown",
      "source": [
        "# Words embedding for Tranformer"
      ],
      "metadata": {
        "id": "K2zgg7yrpeTl"
      }
    },
    {
      "cell_type": "code",
      "source": [
        "def positional_encoding(model_size,SEQUENCE_LENGTH):\n",
        "  output=[]\n",
        "  for pos in range(SEQUENCE_LENGTH):\n",
        "    PE=np.zeros((model_size))\n",
        "    for i in range(model_size):\n",
        "      if i%2==0:\n",
        "        PE[i]=np.sin(pos/(10000**(i/model_size)))\n",
        "      else:\n",
        "        PE[i]=np.cos(pos/(10000**((i-1)/model_size)))\n",
        "    output.append(tf.expand_dims(PE,axis=0))\n",
        "  out=tf.concat(output,axis=0)\n",
        "  out=tf.expand_dims(out,axis=0)\n",
        "  return tf.cast(out,dtype=tf.float32)"
      ],
      "metadata": {
        "id": "zTpGPNYSvMEs"
      },
      "execution_count": null,
      "outputs": []
    },
    {
      "cell_type": "code",
      "source": [
        "class Embeddings(Layer):\n",
        "  def __init__(self, sequence_length, vocab_size, embed_dim,):\n",
        "    super(Embeddings, self).__init__()\n",
        "    self.token_embeddings=Embedding(\n",
        "        input_dim=vocab_size, output_dim=embed_dim)\n",
        "    self.sequence_length = sequence_length\n",
        "    self.vocab_size = vocab_size\n",
        "    self.embed_dim = embed_dim\n",
        "\n",
        "  def call(self, inputs):\n",
        "    embedded_tokens = self.token_embeddings(inputs)\n",
        "    embedded_positions=positional_encoding(\n",
        "        self.embed_dim,self.sequence_length)\n",
        "    return embedded_tokens + embedded_positions\n",
        "\n",
        "  def compute_mask(self, inputs, mask=None):\n",
        "    return tf.math.not_equal(inputs, 0)\n",
        "\n",
        "  def get_config(self):\n",
        "      config = super().get_config()\n",
        "      config.update({\n",
        "        \"sequence_length\": self.sequence_length,\n",
        "        \"vocab_size\": self.vocab_size,\n",
        "        \"embed_dim\": self.embed_dim,\n",
        "      })\n",
        "      return config"
      ],
      "metadata": {
        "id": "_1yQ_g43vMHP"
      },
      "execution_count": null,
      "outputs": []
    },
    {
      "cell_type": "code",
      "source": [
        "test_input=tf.constant([[  2, 112,   10,   12,  5,   0,   0,   0,]])\n",
        "emb=Embeddings(8,20000,256)\n",
        "emb_out=emb(test_input)\n",
        "print(emb_out.shape)"
      ],
      "metadata": {
        "colab": {
          "base_uri": "https://localhost:8080/"
        },
        "id": "Iu9_KmT9ztwS",
        "outputId": "2d783f61-455e-4a99-bd28-c10697960826"
      },
      "execution_count": null,
      "outputs": [
        {
          "output_type": "stream",
          "name": "stdout",
          "text": [
            "(1, 8, 256)\n"
          ]
        }
      ]
    },
    {
      "cell_type": "code",
      "source": [
        "class TransformerEncoder(Layer):\n",
        "    def __init__(self, embed_dim, dense_dim, num_heads,):\n",
        "        super(TransformerEncoder, self).__init__()\n",
        "        self.embed_dim = embed_dim\n",
        "        self.dense_dim = dense_dim\n",
        "        self.num_heads = num_heads\n",
        "        self.attention = MultiHeadAttention(\n",
        "            num_heads=num_heads, key_dim=embed_dim,\n",
        "        )\n",
        "        self.dense_proj=tf.keras.Sequential(\n",
        "            [Dense(dense_dim, activation=\"relu\"),Dense(embed_dim),]\n",
        "        )\n",
        "        self.layernorm_1 = LayerNormalization()\n",
        "        self.layernorm_2 = LayerNormalization()\n",
        "        self.supports_masking = True\n",
        "\n",
        "    def call(self, inputs, mask=None):\n",
        "      if mask is not None:\n",
        "        mask1 = mask[:, :, tf.newaxis]\n",
        "        mask2 = mask[:,tf.newaxis, :]\n",
        "        padding_mask = tf.cast(mask1&mask2, dtype=\"int32\")\n",
        "\n",
        "      attention_output = self.attention(\n",
        "          query=inputs, key=inputs,value=inputs,attention_mask=padding_mask\n",
        "      )\n",
        "\n",
        "      proj_input = self.layernorm_1(inputs + attention_output)\n",
        "      proj_output = self.dense_proj(proj_input)\n",
        "      return self.layernorm_2(proj_input + proj_output)\n",
        "\n",
        "    def get_config(self):\n",
        "      config = super().get_config()\n",
        "      config.update({\n",
        "        \"embed_dim\": self.embed_dim,\n",
        "        \"num_heads\": self.num_heads,\n",
        "        \"dense_dim\": self.dense_dim,\n",
        "      })\n",
        "      return config"
      ],
      "metadata": {
        "id": "n3VRki3NztzG"
      },
      "execution_count": null,
      "outputs": []
    },
    {
      "cell_type": "code",
      "source": [
        "encoder_outputs = TransformerEncoder(256,2048,2)(emb_out)\n",
        "print(encoder_outputs.shape)"
      ],
      "metadata": {
        "colab": {
          "base_uri": "https://localhost:8080/"
        },
        "id": "emuaEGBnzt1v",
        "outputId": "48e73ae6-cc4f-436c-b845-7c85268d31df"
      },
      "execution_count": null,
      "outputs": [
        {
          "output_type": "stream",
          "name": "stdout",
          "text": [
            "(1, 8, 256)\n"
          ]
        }
      ]
    },
    {
      "cell_type": "code",
      "source": [
        "# Setting parameters:\n",
        "EMBEDDING_DIM=128\n",
        "D_FF=1024\n",
        "NUM_HEADS=8\n",
        "NUM_LAYERS=1\n",
        "NUM_EPOCHS=10"
      ],
      "metadata": {
        "id": "zQMkXllnzt4e"
      },
      "execution_count": null,
      "outputs": []
    },
    {
      "cell_type": "code",
      "source": [
        "VOCAB_SIZE = 10000\n",
        "SEQUENCE_LENGTH = 250\n",
        "EMBEDDING_DIM = 128  # Adjusted to match your setting\n",
        "BATCH_SIZE = 32\n",
        "D_FF = 1024\n",
        "NUM_HEADS = 8\n",
        "NUM_LAYERS = 1\n",
        "NUM_EPOCHS = 10\n"
      ],
      "metadata": {
        "id": "5Gm5eWwf1Tl1"
      },
      "execution_count": null,
      "outputs": []
    },
    {
      "cell_type": "markdown",
      "source": [
        "# Building tranformer model"
      ],
      "metadata": {
        "id": "tBZhmw2Rps_f"
      }
    },
    {
      "cell_type": "code",
      "source": [
        "encoder_input=Input(shape=(None,), dtype=\"int64\", name=\"input\")\n",
        "x = Embeddings(SEQUENCE_LENGTH,VOCAB_SIZE,EMBEDDING_DIM)(encoder_input)\n",
        "\n",
        "for _ in range(NUM_LAYERS):\n",
        "  x=TransformerEncoder(EMBEDDING_DIM,D_FF,NUM_HEADS)(x)\n",
        "\n",
        "x = Flatten()(x)\n",
        "output=Dense(1, activation=\"sigmoid\")(x)\n",
        "\n",
        "transformer = tf.keras.Model(\n",
        "    encoder_input, output, name=\"transformer\"\n",
        ")\n",
        "transformer.summary()"
      ],
      "metadata": {
        "colab": {
          "base_uri": "https://localhost:8080/"
        },
        "id": "XMN0ioL1zt7R",
        "outputId": "df449d09-404e-4600-abfc-9a8de92fe4b5"
      },
      "execution_count": null,
      "outputs": [
        {
          "output_type": "stream",
          "name": "stdout",
          "text": [
            "Model: \"transformer\"\n",
            "_________________________________________________________________\n",
            " Layer (type)                Output Shape              Param #   \n",
            "=================================================================\n",
            " input (InputLayer)          [(None, None)]            0         \n",
            "                                                                 \n",
            " embeddings_4 (Embeddings)   (None, 250, 128)          1280000   \n",
            "                                                                 \n",
            " transformer_encoder_4 (Tra  (None, 250, 128)          791296    \n",
            " nsformerEncoder)                                                \n",
            "                                                                 \n",
            " flatten_2 (Flatten)         (None, 32000)             0         \n",
            "                                                                 \n",
            " dense_12 (Dense)            (None, 1)                 32001     \n",
            "                                                                 \n",
            "=================================================================\n",
            "Total params: 2103297 (8.02 MB)\n",
            "Trainable params: 2103297 (8.02 MB)\n",
            "Non-trainable params: 0 (0.00 Byte)\n",
            "_________________________________________________________________\n"
          ]
        }
      ]
    },
    {
      "cell_type": "code",
      "source": [
        "checkpoint_filepath = '/content/drive/MyDrive/nlp/sentiment_analysis/transformer.h5'\n",
        "model_checkpoint_callback = tf.keras.callbacks.ModelCheckpoint(\n",
        "    filepath=checkpoint_filepath,\n",
        "    monitor='val_accuracy',\n",
        "    mode='max',\n",
        "    save_best_only=True)"
      ],
      "metadata": {
        "id": "H82DVGb2zt91"
      },
      "execution_count": null,
      "outputs": []
    },
    {
      "cell_type": "code",
      "source": [
        "# compiling tranformer model\n",
        "transformer.compile(loss=tf.keras.losses.BinaryCrossentropy(),\n",
        "              optimizer=tf.keras.optimizers.Adam(1e-4),\n",
        "              metrics=['accuracy'])"
      ],
      "metadata": {
        "id": "0Iuq76KBzuAo"
      },
      "execution_count": null,
      "outputs": []
    },
    {
      "cell_type": "code",
      "source": [
        "# Training tranformer model through 10 epochs\n",
        "history=transformer.fit(\n",
        "    train_dataset,\n",
        "    validation_data=test_dataset,\n",
        "    epochs=10,\n",
        "    callbacks=[model_checkpoint_callback])"
      ],
      "metadata": {
        "colab": {
          "base_uri": "https://localhost:8080/"
        },
        "id": "uasz-OkFzuDW",
        "outputId": "6e293878-7213-4cc7-f6a7-c48658bd550f"
      },
      "execution_count": null,
      "outputs": [
        {
          "output_type": "stream",
          "name": "stdout",
          "text": [
            "Epoch 1/10\n",
            "2813/2813 [==============================] - 147s 49ms/step - loss: 0.7391 - accuracy: 0.5309 - val_loss: 0.6930 - val_accuracy: 0.5334\n",
            "Epoch 2/10\n"
          ]
        },
        {
          "output_type": "stream",
          "name": "stderr",
          "text": [
            "/usr/local/lib/python3.10/dist-packages/keras/src/engine/training.py:3103: UserWarning: You are saving your model as an HDF5 file via `model.save()`. This file format is considered legacy. We recommend using instead the native Keras format, e.g. `model.save('my_model.keras')`.\n",
            "  saving_api.save_model(\n"
          ]
        },
        {
          "output_type": "stream",
          "name": "stdout",
          "text": [
            "2813/2813 [==============================] - 106s 37ms/step - loss: 0.5151 - accuracy: 0.7196 - val_loss: 0.3162 - val_accuracy: 0.8675\n",
            "Epoch 3/10\n",
            "2813/2813 [==============================] - 106s 37ms/step - loss: 0.2771 - accuracy: 0.8843 - val_loss: 0.2560 - val_accuracy: 0.8964\n",
            "Epoch 4/10\n",
            "2813/2813 [==============================] - 106s 37ms/step - loss: 0.2244 - accuracy: 0.9100 - val_loss: 0.2425 - val_accuracy: 0.9042\n",
            "Epoch 5/10\n",
            "2813/2813 [==============================] - 106s 37ms/step - loss: 0.1983 - accuracy: 0.9223 - val_loss: 0.2438 - val_accuracy: 0.9038\n",
            "Epoch 6/10\n",
            "2813/2813 [==============================] - 106s 37ms/step - loss: 0.1785 - accuracy: 0.9311 - val_loss: 0.2551 - val_accuracy: 0.9040\n",
            "Epoch 7/10\n",
            "2813/2813 [==============================] - 106s 37ms/step - loss: 0.1613 - accuracy: 0.9396 - val_loss: 0.2760 - val_accuracy: 0.8997\n",
            "Epoch 8/10\n",
            "2813/2813 [==============================] - 106s 37ms/step - loss: 0.1450 - accuracy: 0.9474 - val_loss: 0.3045 - val_accuracy: 0.8949\n",
            "Epoch 9/10\n",
            "2813/2813 [==============================] - 106s 37ms/step - loss: 0.1292 - accuracy: 0.9547 - val_loss: 0.3406 - val_accuracy: 0.8893\n",
            "Epoch 10/10\n",
            "2813/2813 [==============================] - 106s 37ms/step - loss: 0.1146 - accuracy: 0.9611 - val_loss: 0.3735 - val_accuracy: 0.8841\n"
          ]
        }
      ]
    },
    {
      "cell_type": "markdown",
      "source": [
        "## Visuslization of accuracy and loss through training process for tranformer"
      ],
      "metadata": {
        "id": "2UZUCuPYqA6D"
      }
    },
    {
      "cell_type": "code",
      "source": [
        "plt.plot(history.history['loss'])\n",
        "plt.plot(history.history['val_loss'])\n",
        "plt.title('model_loss')\n",
        "plt.ylabel('loss')\n",
        "plt.xlabel('epoch')\n",
        "plt.legend(['train', 'val'], loc='upper left')\n",
        "plt.show()"
      ],
      "metadata": {
        "colab": {
          "base_uri": "https://localhost:8080/",
          "height": 472
        },
        "id": "F33TKaAh0DH4",
        "outputId": "f9bef4a1-d03b-4d8f-c2fc-8b6536943d3a"
      },
      "execution_count": null,
      "outputs": [
        {
          "output_type": "display_data",
          "data": {
            "text/plain": [
              "<Figure size 640x480 with 1 Axes>"
            ],
            "image/png": "[encoded data removed]"
          },
          "metadata": {}
        }
      ]
    },
    {
      "cell_type": "code",
      "source": [
        "plt.plot(history.history['accuracy'])\n",
        "plt.plot(history.history['val_accuracy'])\n",
        "\n",
        "plt.title('model_accuracy')\n",
        "plt.ylabel('accuracy')\n",
        "plt.xlabel('epoch')\n",
        "plt.legend(['train', 'val'], loc='upper left')\n",
        "plt.show()"
      ],
      "metadata": {
        "colab": {
          "base_uri": "https://localhost:8080/",
          "height": 472
        },
        "id": "Zx6F19s20DLF",
        "outputId": "ccb9c1a1-c575-4680-fd23-639f9bcb83e2"
      },
      "execution_count": null,
      "outputs": [
        {
          "output_type": "display_data",
          "data": {
            "text/plain": [
              "<Figure size 640x480 with 1 Axes>"
            ],
            "image/png": "[encoded data removed]"
          },
          "metadata": {}
        }
      ]
    },
    {
      "cell_type": "code",
      "source": [
        "transformer.load_weights(checkpoint_filepath)"
      ],
      "metadata": {
        "id": "vsNiwl3D0DN0"
      },
      "execution_count": null,
      "outputs": []
    },
    {
      "cell_type": "markdown",
      "source": [
        "# Evaluating on test data for transformer"
      ],
      "metadata": {
        "id": "z8HEHr7NqPAV"
      }
    },
    {
      "cell_type": "code",
      "source": [
        "transformer.evaluate(test_dataset)"
      ],
      "metadata": {
        "colab": {
          "base_uri": "https://localhost:8080/"
        },
        "id": "qFG3oSpV0DQt",
        "outputId": "3e813ea6-1b17-484b-96b6-3a6aee3750b9"
      },
      "execution_count": null,
      "outputs": [
        {
          "output_type": "stream",
          "name": "stdout",
          "text": [
            "313/313 [==============================] - 5s 15ms/step - loss: 0.2425 - accuracy: 0.9042\n"
          ]
        },
        {
          "output_type": "execute_result",
          "data": {
            "text/plain": [
              "[0.242487370967865, 0.90420001745224]"
            ]
          },
          "metadata": {},
          "execution_count": 88
        }
      ]
    },
    {
      "cell_type": "code",
      "source": [
        "# model prediction\n",
        "transformer.predict(test_dataset)"
      ],
      "metadata": {
        "colab": {
          "base_uri": "https://localhost:8080/"
        },
        "id": "ZmTHTqi-0DTh",
        "outputId": "a8a4ec34-13c4-45e1-83e3-f058f8d27ac7"
      },
      "execution_count": null,
      "outputs": [
        {
          "output_type": "stream",
          "name": "stdout",
          "text": [
            "313/313 [==============================] - 7s 15ms/step\n"
          ]
        },
        {
          "output_type": "execute_result",
          "data": {
            "text/plain": [
              "array([[0.9072335 ],\n",
              "       [0.9978369 ],\n",
              "       [0.99702483],\n",
              "       ...,\n",
              "       [0.02289296],\n",
              "       [0.01573818],\n",
              "       [0.99635005]], dtype=float32)"
            ]
          },
          "metadata": {},
          "execution_count": 89
        }
      ]
    },
    {
      "cell_type": "code",
      "source": [],
      "metadata": {
        "id": "wGFLwgLK93m_"
      },
      "execution_count": null,
      "outputs": []
    },
    {
      "cell_type": "code",
      "source": [],
      "metadata": {
        "id": "0ub6AAQUqX0w"
      },
      "execution_count": null,
      "outputs": []
    },
    {
      "cell_type": "code",
      "source": [],
      "metadata": {
        "id": "J-KlnAOC93pp"
      },
      "execution_count": null,
      "outputs": []
    },
    {
      "cell_type": "code",
      "source": [],
      "metadata": {
        "id": "uuBC8eUV93sb"
      },
      "execution_count": null,
      "outputs": []
    }
  ]
}