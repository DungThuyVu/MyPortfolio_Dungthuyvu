{
  "cells": [
    {
      "cell_type": "code",
      "execution_count": null,
      "metadata": {
        "colab": {
          "base_uri": "https://localhost:8080/"
        },
        "id": "pz4vKxfv_qFG",
        "outputId": "0c303855-fa32-4e2f-d63b-ff2baecf97a0"
      },
      "outputs": [
        {
          "name": "stdout",
          "output_type": "stream",
          "text": [
            "Requirement already satisfied: kaggle in /usr/local/lib/python3.10/dist-packages (1.6.12)\n",
            "Requirement already satisfied: six>=1.10 in /usr/local/lib/python3.10/dist-packages (from kaggle) (1.16.0)\n",
            "Requirement already satisfied: certifi>=2023.7.22 in /usr/local/lib/python3.10/dist-packages (from kaggle) (2024.2.2)\n",
            "Requirement already satisfied: python-dateutil in /usr/local/lib/python3.10/dist-packages (from kaggle) (2.8.2)\n",
            "Requirement already satisfied: requests in /usr/local/lib/python3.10/dist-packages (from kaggle) (2.31.0)\n",
            "Requirement already satisfied: tqdm in /usr/local/lib/python3.10/dist-packages (from kaggle) (4.66.4)\n",
            "Requirement already satisfied: python-slugify in /usr/local/lib/python3.10/dist-packages (from kaggle) (8.0.4)\n",
            "Requirement already satisfied: urllib3 in /usr/local/lib/python3.10/dist-packages (from kaggle) (2.0.7)\n",
            "Requirement already satisfied: bleach in /usr/local/lib/python3.10/dist-packages (from kaggle) (6.1.0)\n",
            "Requirement already satisfied: webencodings in /usr/local/lib/python3.10/dist-packages (from bleach->kaggle) (0.5.1)\n",
            "Requirement already satisfied: text-unidecode>=1.3 in /usr/local/lib/python3.10/dist-packages (from python-slugify->kaggle) (1.3)\n",
            "Requirement already satisfied: charset-normalizer<4,>=2 in /usr/local/lib/python3.10/dist-packages (from requests->kaggle) (3.3.2)\n",
            "Requirement already satisfied: idna<4,>=2.5 in /usr/local/lib/python3.10/dist-packages (from requests->kaggle) (3.7)\n"
          ]
        }
      ],
      "source": [
        "# installing kaggle library\n",
        "! pip install kaggle\n"
      ]
    },
    {
      "cell_type": "code",
      "execution_count": null,
      "metadata": {
        "id": "kRq1Nzx2_t0O"
      },
      "outputs": [],
      "source": [
        "!mkdir -p ~/.kaggle\n",
        "#!cp kaggle.json ~/.kaggle\n",
        "#!chmod 600 ~/.kaggle/kaggle.json\n",
        "!cp /content/'kaggle.json' ~/.kaggle/kaggle.json\n",
        "!chmod 600 ~/.kaggle/kaggle.json"
      ]
    },
    {
      "cell_type": "code",
      "execution_count": null,
      "metadata": {
        "colab": {
          "base_uri": "https://localhost:8080/"
        },
        "id": "l4JcmcjF_t8B",
        "outputId": "b4d1501c-90bd-46eb-9acf-d6abe20a4a8e"
      },
      "outputs": [
        {
          "name": "stdout",
          "output_type": "stream",
          "text": [
            "Warning: Looks like you're using an outdated API Version, please consider updating (server 1.6.14 / client 1.6.12)\n",
            "Dataset URL: https://www.kaggle.com/datasets/bittlingmayer/amazonreviews\n",
            "License(s): unknown\n",
            "Downloading amazonreviews.zip to /content\n",
            "100% 491M/493M [00:23<00:00, 20.9MB/s]\n",
            "100% 493M/493M [00:23<00:00, 21.9MB/s]\n"
          ]
        }
      ],
      "source": [
        "# API for fetching data to Kaggle :\n",
        "!kaggle datasets download -d bittlingmayer/amazonreviews"
      ]
    },
    {
      "cell_type": "code",
      "execution_count": null,
      "metadata": {
        "colab": {
          "base_uri": "https://localhost:8080/"
        },
        "id": "J0ku49mO_t-_",
        "outputId": "e4cb3017-3fac-4898-da07-d74c12579fd9"
      },
      "outputs": [
        {
          "name": "stdout",
          "output_type": "stream",
          "text": [
            "Amazone data has been extracted\n"
          ]
        }
      ],
      "source": [
        "#Unzip data\n",
        "from zipfile import ZipFile\n",
        "Amazonedata = '/content/amazonreviews.zip'\n",
        "with ZipFile(Amazonedata, 'r') as zip:\n",
        "  zip.extractall()\n",
        "  print('Amazone data has been extracted')"
      ]
    },
    {
      "cell_type": "code",
      "execution_count": null,
      "metadata": {
        "id": "rwGQlwxR_uEd"
      },
      "outputs": [],
      "source": [
        "# Installing all dependency :\n",
        "import numpy as np\n",
        "import nltk\n",
        "import pandas as pd\n",
        "import re\n",
        "from nltk.corpus import stopwords\n",
        "from nltk.stem.porter import PorterStemmer\n",
        "from sklearn.feature_extraction.text import TfidfVectorizer\n",
        "from sklearn.model_selection import train_test_split\n",
        "from sklearn.linear_model import LogisticRegression\n",
        "from sklearn.metrics import accuracy_score\n",
        "import os\n",
        "import sys\n",
        "import matplotlib.pyplot as plt\n",
        "from keras.preprocessing.text import Tokenizer\n",
        "from keras.preprocessing.sequence import pad_sequences\n",
        "from keras.layers import Dense, Input, GlobalMaxPooling1D\n",
        "from keras.layers import Conv1D, MaxPooling1D, Embedding\n",
        "from keras.models import Model\n",
        "from sklearn.metrics import roc_auc_score\n",
        "from keras.layers import LSTM, Bidirectional, Dropout\n",
        "from keras.optimizers import Adam\n",
        "import keras.backend as K\n"
      ]
    },
    {
      "cell_type": "code",
      "execution_count": null,
      "metadata": {
        "colab": {
          "base_uri": "https://localhost:8080/"
        },
        "id": "wDKjbVbaMRLv",
        "outputId": "bcc3c145-5245-4c03-c5db-6bca11a071c5"
      },
      "outputs": [
        {
          "name": "stderr",
          "output_type": "stream",
          "text": [
            "[nltk_data] Downloading package stopwords to /root/nltk_data...\n",
            "[nltk_data]   Unzipping corpora/stopwords.zip.\n"
          ]
        }
      ],
      "source": [
        "#Downloading stopwords data\n",
        "nltk.download('stopwords')\n",
        "# Load English stopwords\n",
        "english_stopwords = set(stopwords.words('english'))\n",
        "\n",
        "# Load Spanish stopwords\n",
        "spanish_stopwords = set(stopwords.words('spanish'))\n",
        "\n",
        "# Combine both sets of stopwords\n",
        "combined_stopwords = english_stopwords.union(spanish_stopwords)\n"
      ]
    },
    {
      "cell_type": "code",
      "execution_count": null,
      "metadata": {
        "colab": {
          "base_uri": "https://localhost:8080/"
        },
        "id": "00Hw7Pqr_uHZ",
        "outputId": "bddfbd41-11ff-4bef-bb28-f3ab62141e09"
      },
      "outputs": [
        {
          "name": "stdout",
          "output_type": "stream",
          "text": [
            "['i', 'me', 'my', 'myself', 'we', 'our', 'ours', 'ourselves', 'you', \"you're\", \"you've\", \"you'll\", \"you'd\", 'your', 'yours', 'yourself', 'yourselves', 'he', 'him', 'his', 'himself', 'she', \"she's\", 'her', 'hers', 'herself', 'it', \"it's\", 'its', 'itself', 'they', 'them', 'their', 'theirs', 'themselves', 'what', 'which', 'who', 'whom', 'this', 'that', \"that'll\", 'these', 'those', 'am', 'is', 'are', 'was', 'were', 'be', 'been', 'being', 'have', 'has', 'had', 'having', 'do', 'does', 'did', 'doing', 'a', 'an', 'the', 'and', 'but', 'if', 'or', 'because', 'as', 'until', 'while', 'of', 'at', 'by', 'for', 'with', 'about', 'against', 'between', 'into', 'through', 'during', 'before', 'after', 'above', 'below', 'to', 'from', 'up', 'down', 'in', 'out', 'on', 'off', 'over', 'under', 'again', 'further', 'then', 'once', 'here', 'there', 'when', 'where', 'why', 'how', 'all', 'any', 'both', 'each', 'few', 'more', 'most', 'other', 'some', 'such', 'no', 'nor', 'not', 'only', 'own', 'same', 'so', 'than', 'too', 'very', 's', 't', 'can', 'will', 'just', 'don', \"don't\", 'should', \"should've\", 'now', 'd', 'll', 'm', 'o', 're', 've', 'y', 'ain', 'aren', \"aren't\", 'couldn', \"couldn't\", 'didn', \"didn't\", 'doesn', \"doesn't\", 'hadn', \"hadn't\", 'hasn', \"hasn't\", 'haven', \"haven't\", 'isn', \"isn't\", 'ma', 'mightn', \"mightn't\", 'mustn', \"mustn't\", 'needn', \"needn't\", 'shan', \"shan't\", 'shouldn', \"shouldn't\", 'wasn', \"wasn't\", 'weren', \"weren't\", 'won', \"won't\", 'wouldn', \"wouldn't\"]\n",
            "['de', 'la', 'que', 'el', 'en', 'y', 'a', 'los', 'del', 'se', 'las', 'por', 'un', 'para', 'con', 'no', 'una', 'su', 'al', 'lo', 'como', 'más', 'pero', 'sus', 'le', 'ya', 'o', 'este', 'sí', 'porque', 'esta', 'entre', 'cuando', 'muy', 'sin', 'sobre', 'también', 'me', 'hasta', 'hay', 'donde', 'quien', 'desde', 'todo', 'nos', 'durante', 'todos', 'uno', 'les', 'ni', 'contra', 'otros', 'ese', 'eso', 'ante', 'ellos', 'e', 'esto', 'mí', 'antes', 'algunos', 'qué', 'unos', 'yo', 'otro', 'otras', 'otra', 'él', 'tanto', 'esa', 'estos', 'mucho', 'quienes', 'nada', 'muchos', 'cual', 'poco', 'ella', 'estar', 'estas', 'algunas', 'algo', 'nosotros', 'mi', 'mis', 'tú', 'te', 'ti', 'tu', 'tus', 'ellas', 'nosotras', 'vosotros', 'vosotras', 'os', 'mío', 'mía', 'míos', 'mías', 'tuyo', 'tuya', 'tuyos', 'tuyas', 'suyo', 'suya', 'suyos', 'suyas', 'nuestro', 'nuestra', 'nuestros', 'nuestras', 'vuestro', 'vuestra', 'vuestros', 'vuestras', 'esos', 'esas', 'estoy', 'estás', 'está', 'estamos', 'estáis', 'están', 'esté', 'estés', 'estemos', 'estéis', 'estén', 'estaré', 'estarás', 'estará', 'estaremos', 'estaréis', 'estarán', 'estaría', 'estarías', 'estaríamos', 'estaríais', 'estarían', 'estaba', 'estabas', 'estábamos', 'estabais', 'estaban', 'estuve', 'estuviste', 'estuvo', 'estuvimos', 'estuvisteis', 'estuvieron', 'estuviera', 'estuvieras', 'estuviéramos', 'estuvierais', 'estuvieran', 'estuviese', 'estuvieses', 'estuviésemos', 'estuvieseis', 'estuviesen', 'estando', 'estado', 'estada', 'estados', 'estadas', 'estad', 'he', 'has', 'ha', 'hemos', 'habéis', 'han', 'haya', 'hayas', 'hayamos', 'hayáis', 'hayan', 'habré', 'habrás', 'habrá', 'habremos', 'habréis', 'habrán', 'habría', 'habrías', 'habríamos', 'habríais', 'habrían', 'había', 'habías', 'habíamos', 'habíais', 'habían', 'hube', 'hubiste', 'hubo', 'hubimos', 'hubisteis', 'hubieron', 'hubiera', 'hubieras', 'hubiéramos', 'hubierais', 'hubieran', 'hubiese', 'hubieses', 'hubiésemos', 'hubieseis', 'hubiesen', 'habiendo', 'habido', 'habida', 'habidos', 'habidas', 'soy', 'eres', 'es', 'somos', 'sois', 'son', 'sea', 'seas', 'seamos', 'seáis', 'sean', 'seré', 'serás', 'será', 'seremos', 'seréis', 'serán', 'sería', 'serías', 'seríamos', 'seríais', 'serían', 'era', 'eras', 'éramos', 'erais', 'eran', 'fui', 'fuiste', 'fue', 'fuimos', 'fuisteis', 'fueron', 'fuera', 'fueras', 'fuéramos', 'fuerais', 'fueran', 'fuese', 'fueses', 'fuésemos', 'fueseis', 'fuesen', 'sintiendo', 'sentido', 'sentida', 'sentidos', 'sentidas', 'siente', 'sentid', 'tengo', 'tienes', 'tiene', 'tenemos', 'tenéis', 'tienen', 'tenga', 'tengas', 'tengamos', 'tengáis', 'tengan', 'tendré', 'tendrás', 'tendrá', 'tendremos', 'tendréis', 'tendrán', 'tendría', 'tendrías', 'tendríamos', 'tendríais', 'tendrían', 'tenía', 'tenías', 'teníamos', 'teníais', 'tenían', 'tuve', 'tuviste', 'tuvo', 'tuvimos', 'tuvisteis', 'tuvieron', 'tuviera', 'tuvieras', 'tuviéramos', 'tuvierais', 'tuvieran', 'tuviese', 'tuvieses', 'tuviésemos', 'tuvieseis', 'tuviesen', 'teniendo', 'tenido', 'tenida', 'tenidos', 'tenidas', 'tened']\n",
            "{'e', 'tendremos', 'here', 'aren', 'suyos', 'fueran', 'did', 'ain', 'estuviésemos', 'qué', 'sea', \"don't\", \"needn't\", 'isn', 'is', 'tuvierais', 'tendrás', 'habida', 'them', 'tus', 'seáis', 'erais', 'estaría', 'which', 'fueron', 'estaríais', 'hubieron', 'theirs', 'habidas', \"she's\", \"you're\", 'esto', 'soy', 'so', 'hemos', 'tuvieran', 'estuvieras', 'such', 'quien', 'tuyas', 'habría', 'lo', \"won't\", 'itself', 'ellos', 'our', 'donde', 'vuestros', 'estuviesen', 'nosotras', 'habréis', \"isn't\", 'into', 'tenía', 'tuvo', 'again', 'este', 'estar', 'más', 'tendrá', 'an', 'shouldn', 'fuera', 'estabas', 'habías', \"weren't\", 'mucho', 'tenidas', 'otra', 'algunas', 'tuve', 'y', 'estuvieron', 'tenida', 'she', 'porque', 'los', 'estuvo', 'hers', \"should've\", \"doesn't\", 'estadas', 'al', 'que', 'has', 'estarías', 'estos', 'sobre', 'uno', 'otros', 'up', 'estaréis', 'contra', 'below', 'his', \"shouldn't\", 'tendré', 'fuésemos', \"wouldn't\", 'tuyos', 'eran', 'de', 'my', 'estáis', 'tengo', 'yourselves', 'after', 'sus', 'hasta', 'tengáis', 'estuvisteis', 'too', 'están', 'nos', 'mía', 'nor', 'estuviera', 'ni', 'estado', 'estuvieseis', 'tened', 'unos', 'estando', 'does', 'tienes', 'tenéis', 'fuimos', 'serán', 'tendréis', 'few', 'tengas', 'by', \"couldn't\", 'ours', 'were', 'tuviéramos', 'estuve', 'wasn', 'nuestros', 'estén', 'sin', 'nuestra', 'sintiendo', \"hadn't\", 'estéis', 'estemos', 'a', 'estábamos', 'himself', 'off', 'only', 'tenemos', 'sentida', 'estaremos', 'above', 'through', 'why', 'myself', 'está', 'por', 'they', \"haven't\", 'ya', 'tuvieses', 'tiene', 'tendríamos', 'estad', 'hayas', 'sería', 'fuese', 'en', 'than', 'fueras', 'very', 'while', 'fuéramos', 'doing', 'somos', 'tendrías', 'her', 'hubiésemos', 'hubieseis', 't', 'serás', 'le', 'estada', 'to', 'sí', 'esa', 'shan', 'in', 'needn', 'seríais', \"mightn't\", 'él', 'entre', 'hubiese', 'fui', 'sentidos', 'para', 'seríamos', 'una', 'had', 'themselves', 'fuesen', 'down', 'just', \"you'd\", 'mustn', 'míos', 'own', 'ella', 'estados', \"you've\", 'tuvieseis', 'tenido', 'tendrían', 'are', 'habríais', 'las', 'estabais', 'habéis', 'of', 'other', 'sentidas', 'hubiéramos', 'tuya', 'tenidos', 'estuviéramos', 'habrás', 'todo', 'no', 'habiendo', \"didn't\", 'esas', 'con', 'we', 'nada', 'estaré', 'serías', 'didn', \"hasn't\", 'poco', 'teníais', 'hube', 'suya', 'habré', 'hubieras', 'because', 'he', 'un', 'hubieses', 'was', 'during', 'antes', 'these', 'but', 'tuviste', 'between', 'estarás', 'vosotros', 'tuviese', 'further', 'hadn', 'fueses', \"it's\", 'don', 'estoy', 'estaban', 'estuviese', 'both', 'those', \"mustn't\", 'should', 'cual', 'sentido', 'yourself', 'eres', 'hubiera', 'tengan', 'tuviesen', 'from', 'desde', 'been', 'vuestras', 'era', 'herself', 'éramos', 'tuyo', 'yo', 'can', 'mightn', 'o', 'you', 'have', 'esos', 'having', 'fuisteis', 'esté', 'hubisteis', 'be', 'where', 'ese', 'there', 'seamos', 'seré', 'me', 'ante', 'ha', 'también', 'some', 'who', 'your', 'what', 'this', 'seremos', 'tanto', 'la', 'mi', 'ourselves', 'couldn', 'it', 'tuvieron', 'as', 've', 'nuestras', 'll', 'eso', 'each', 'suyas', 'otras', 'the', 'muchos', 'cuando', 'es', 'nuestro', 'han', 'haya', 'am', 'with', 'hubo', 'teníamos', 'estás', 'habrán', 'out', 'seas', 'estés', 'vuestra', 'algo', 'ellas', 'm', 'tendríais', \"wasn't\", 'at', 'tienen', 'tuviera', 'siente', 'mío', 'not', \"shan't\", 'estuvieses', 'whom', 'same', \"aren't\", 'until', 'habrían', 'habrías', 'against', 'their', 'pero', 'tuvieras', 'nosotros', 's', 'will', 'habidos', 'muy', 'estas', 'estuviste', 'seréis', 'tendrán', 'hubiesen', 'sentid', 'vuestro', 'mí', 'tuviésemos', 're', 'most', 'durante', 'doesn', 'estarán', 'del', 'te', 'suyo', 'se', 'tuvimos', 'como', 'tendría', 'tenían', 'all', 'son', 'sois', 'tengamos', 'on', 'being', 'about', 'hubimos', 'fueseis', 'habían', 'fuiste', 'tuvisteis', 'mías', 'if', 'estaba', 'estamos', 'hayáis', 'quienes', 'tenga', 'hay', 'how', 'weren', 'ti', 'todos', \"you'll\", 'hubierais', 'había', 'now', 'serían', 'wouldn', 'for', 'before', 'habíamos', 'os', 'estuvieran', 'hayamos', 'tenías', 'estuvimos', 'eras', 'fuerais', 'hubieran', 'and', 'otro', 'estuvierais', 'do', \"that'll\", 'será', 'hayan', 'vosotras', 'won', 'more', 'habíais', 'habríamos', 'su', 'when', 'under', 'over', 'ma', 'fue', 'hubiste', 'algunos', 'estará', 'any', 'teniendo', 'les', 'habremos', 'its', 'estaríamos', 'hasn', 'or', 'tú', 'habrá', 'habido', 'haven', 'd', 'esta', 'yours', 'tu', 'mis', 'el', 'i', 'sean', 'him', 'estarían', 'once', 'then', 'that'}\n"
          ]
        }
      ],
      "source": [
        "#print stopwords for both englisha nd spanish\n",
        "print(stopwords.words('english'))\n",
        "print(stopwords.words('spanish'))\n",
        "print(combined_stopwords)\n",
        "\n"
      ]
    },
    {
      "cell_type": "code",
      "execution_count": null,
      "metadata": {
        "colab": {
          "base_uri": "https://localhost:8080/"
        },
        "id": "sh9rzFrN_uPk",
        "outputId": "df317a97-6880-404d-a8ea-7ac9eaa8292b"
      },
      "outputs": [
        {
          "name": "stdout",
          "output_type": "stream",
          "text": [
            "  label                                               text\n",
            "0     2  Stuning even for the non-gamer: This sound tra...\n",
            "1     2  The best soundtrack ever to anything.: I'm rea...\n",
            "2     2  Amazing!: This soundtrack is my favorite music...\n",
            "3     2  Excellent Soundtrack: I truly like this soundt...\n",
            "4     2  Remember, Pull Your Jaw Off The Floor After He...\n"
          ]
        }
      ],
      "source": [
        "#Pre processing data, creating dataframe\n",
        "import bz2\n",
        "# Specify the path to the compressed file\n",
        "compressed_file_path = '/content/train.ft.txt.bz2'\n",
        "\n",
        "# Decompress the file and read its content\n",
        "with bz2.open(compressed_file_path, 'rt', encoding='ISO-8859-1') as f:\n",
        "    lines = f.readlines()\n",
        "\n",
        "# Parse the lines and create a list of dictionaries\n",
        "data = []\n",
        "for line in lines:\n",
        "    parts = line.strip().split(' ', 1)  # Split into label and text, with a maximum of 1 split\n",
        "    label = parts[0].replace('__label__', '')  # Remove the prefix '__label__'\n",
        "    text = parts[1]\n",
        "    data.append({'label': label, 'text': text})\n",
        "\n",
        "# Create a DataFrame from the list of dictionaries\n",
        "Amazone = pd.DataFrame(data)\n",
        "\n",
        "# Display the DataFrame\n",
        "print(Amazone.head())\n"
      ]
    },
    {
      "cell_type": "code",
      "execution_count": null,
      "metadata": {
        "colab": {
          "base_uri": "https://localhost:8080/"
        },
        "id": "H1IJ6Q3F2QCh",
        "outputId": "b0883cda-1969-47f7-b854-4fc7a851079d"
      },
      "outputs": [
        {
          "name": "stdout",
          "output_type": "stream",
          "text": [
            "(150000, 2)\n"
          ]
        }
      ],
      "source": [
        "Amazone_train = Amazone.head(150000)\n",
        "print(Amazone_train.shape)"
      ]
    },
    {
      "cell_type": "code",
      "execution_count": null,
      "metadata": {
        "colab": {
          "base_uri": "https://localhost:8080/"
        },
        "id": "TjDfbssC2jDU",
        "outputId": "fa4e2165-5b60-448c-db0a-02adaf2644a4"
      },
      "outputs": [
        {
          "name": "stderr",
          "output_type": "stream",
          "text": [
            "<ipython-input-13-0bedcb911527>:2: SettingWithCopyWarning: \n",
            "A value is trying to be set on a copy of a slice from a DataFrame.\n",
            "Try using .loc[row_indexer,col_indexer] = value instead\n",
            "\n",
            "See the caveats in the documentation: https://pandas.pydata.org/pandas-docs/stable/user_guide/indexing.html#returning-a-view-versus-a-copy\n",
            "  Amazone_train['label'] = Amazone_train['label'].astype(int) - 1\n",
            "<ipython-input-13-0bedcb911527>:5: SettingWithCopyWarning: \n",
            "A value is trying to be set on a copy of a slice from a DataFrame.\n",
            "Try using .loc[row_indexer,col_indexer] = value instead\n",
            "\n",
            "See the caveats in the documentation: https://pandas.pydata.org/pandas-docs/stable/user_guide/indexing.html#returning-a-view-versus-a-copy\n",
            "  Amazone_train['label'] = Amazone_train['label'].values\n"
          ]
        }
      ],
      "source": [
        "# Convert label values from strings to integers and subtract 1\n",
        "Amazone_train['label'] = Amazone_train['label'].astype(int) - 1\n",
        "\n",
        "# Update the 'label' column in the DataFrame with the modified values\n",
        "Amazone_train['label'] = Amazone_train['label'].values\n"
      ]
    },
    {
      "cell_type": "code",
      "execution_count": null,
      "metadata": {
        "colab": {
          "base_uri": "https://localhost:8080/"
        },
        "id": "857HppZY_ukN",
        "outputId": "28e2fd5b-d419-4291-f504-b3c998f0a72c"
      },
      "outputs": [
        {
          "data": {
            "text/plain": [
              "label    0\n",
              "text     0\n",
              "dtype: int64"
            ]
          },
          "execution_count": 10,
          "metadata": {},
          "output_type": "execute_result"
        }
      ],
      "source": [
        "#Check for Null value\n",
        "Amazone_train.isnull().sum()\n"
      ]
    },
    {
      "cell_type": "code",
      "execution_count": null,
      "metadata": {
        "colab": {
          "base_uri": "https://localhost:8080/"
        },
        "id": "zmH94Rv-_unV",
        "outputId": "7f6f628c-a2c8-4a84-cc46-221f26aaa7a7"
      },
      "outputs": [
        {
          "data": {
            "text/plain": [
              "label\n",
              "1    76248\n",
              "0    73752\n",
              "Name: count, dtype: int64"
            ]
          },
          "execution_count": 14,
          "metadata": {},
          "output_type": "execute_result"
        }
      ],
      "source": [
        "# Checking for balance of data\n",
        "Amazone_train['label'].value_counts()"
      ]
    },
    {
      "cell_type": "code",
      "execution_count": null,
      "metadata": {
        "id": "Lv4QBWXd0wyt"
      },
      "outputs": [],
      "source": [
        "# Reading contractions.csv and storing it as a dict for data processing\n",
        "contractions = pd.read_csv('contractions.csv', index_col='Contraction')\n",
        "contractions.index = contractions.index.str.lower()\n",
        "contractions.Meaning = contractions.Meaning.str.lower()\n",
        "contractions_dict = contractions.to_dict()['Meaning']"
      ]
    },
    {
      "cell_type": "code",
      "execution_count": null,
      "metadata": {
        "id": "AEz-tUoeNF8R"
      },
      "outputs": [],
      "source": [
        "import re\n",
        "# function for data processing\n",
        "def stemming(text,english_stopwords ):\n",
        "    # Define regex patterns for preprocessing\n",
        "    urlPattern = r\"((http://)[^ ]*|(https://)[^ ]*|(www\\.)[^ ]*)\"\n",
        "    userPattern = '@[^\\s]+'\n",
        "    alphaPattern = \"[^a-z0-9<>]\"\n",
        "    smileemoji = r\"[8:=;]['`\\-]?[)d]+\"\n",
        "    sademoji = r\"[8:=;]['`\\-]?\\(+\"\n",
        "    neutralemoji = r\"[8:=;]['`\\-]?[\\/|l*]\"\n",
        "    lolemoji = r\"[8:=;]['`\\-]?p+\"\n",
        "\n",
        "    # Preprocess text\n",
        "    text = text.lower()\n",
        "    text = re.sub(urlPattern, '<url>', text)\n",
        "    text = re.sub(userPattern, '<user>', text)\n",
        "    text = re.sub(r'<3', '<heart>', text)\n",
        "    text = re.sub(smileemoji, '<smile>', text)\n",
        "    text = re.sub(sademoji, '<sadface>', text)\n",
        "    text = re.sub(neutralemoji, '<neutralface>', text)\n",
        "    text = re.sub(lolemoji, '<lolface>', text)\n",
        "\n",
        "    for contraction, replacement in contractions_dict.items():\n",
        "        text = text.replace(contraction, replacement)\n",
        "\n",
        "    text = re.sub(alphaPattern, ' ', text)\n",
        "    text = re.sub(r'/', ' / ', text)\n",
        "\n",
        "    # Perform stemming\n",
        "    stemmed_text = re.sub('[^a-zA-Z]', ' ', text)\n",
        "    stemmed_text = stemmed_text.lower().split()\n",
        "    stemmed_text = [word for word in stemmed_text if word not in english_stopwords]\n",
        "    stemmed_text = ' '.join(stemmed_text)\n",
        "\n",
        "    return stemmed_text\n"
      ]
    },
    {
      "cell_type": "code",
      "execution_count": null,
      "metadata": {
        "colab": {
          "base_uri": "https://localhost:8080/"
        },
        "id": "Oj7RTfwKrqUE",
        "outputId": "343091fc-7cb2-4bb0-ab69-071df896b4ea"
      },
      "outputs": [
        {
          "name": "stderr",
          "output_type": "stream",
          "text": [
            "<ipython-input-17-752a03d9bf6e>:1: SettingWithCopyWarning: \n",
            "A value is trying to be set on a copy of a slice from a DataFrame.\n",
            "Try using .loc[row_indexer,col_indexer] = value instead\n",
            "\n",
            "See the caveats in the documentation: https://pandas.pydata.org/pandas-docs/stable/user_guide/indexing.html#returning-a-view-versus-a-copy\n",
            "  Amazone_train['stemmed_text'] = Amazone_train['text'].apply(stemming, english_stopwords=combined_stopwords)\n"
          ]
        }
      ],
      "source": [
        "# Applying fucntion to text data aka Amazone reviews\n",
        "Amazone_train['stemmed_text'] = Amazone_train['text'].apply(stemming, english_stopwords=combined_stopwords)\n"
      ]
    },
    {
      "cell_type": "code",
      "execution_count": null,
      "metadata": {
        "colab": {
          "base_uri": "https://localhost:8080/",
          "height": 293
        },
        "id": "imFaJryL4tTf",
        "outputId": "20130fc1-4c8f-42ed-f039-a6a1741a0503"
      },
      "outputs": [
        {
          "data": {
            "application/vnd.google.colaboratory.intrinsic+json": {
              "type": "dataframe",
              "variable_name": "Amazone_train"
            },
            "text/html": [
              "\n",
              "  <div id=\"df-28811de3-94c1-45d8-88bd-effd1057f429\" class=\"colab-df-container\">\n",
              "    <div>\n",
              "<style scoped>\n",
              "    .dataframe tbody tr th:only-of-type {\n",
              "        vertical-align: middle;\n",
              "    }\n",
              "\n",
              "    .dataframe tbody tr th {\n",
              "        vertical-align: top;\n",
              "    }\n",
              "\n",
              "    .dataframe thead th {\n",
              "        text-align: right;\n",
              "    }\n",
              "</style>\n",
              "<table border=\"1\" class=\"dataframe\">\n",
              "  <thead>\n",
              "    <tr style=\"text-align: right;\">\n",
              "      <th></th>\n",
              "      <th>label</th>\n",
              "      <th>text</th>\n",
              "      <th>stemmed_text</th>\n",
              "    </tr>\n",
              "  </thead>\n",
              "  <tbody>\n",
              "    <tr>\n",
              "      <th>0</th>\n",
              "      <td>1</td>\n",
              "      <td>Stuning even for the non-gamer: This sound tra...</td>\n",
              "      <td>stuning even non gamer sound track beautiful p...</td>\n",
              "    </tr>\n",
              "    <tr>\n",
              "      <th>1</th>\n",
              "      <td>1</td>\n",
              "      <td>The best soundtrack ever to anything.: I'm rea...</td>\n",
              "      <td>best soundtrack ever anything reading lot revi...</td>\n",
              "    </tr>\n",
              "    <tr>\n",
              "      <th>2</th>\n",
              "      <td>1</td>\n",
              "      <td>Amazing!: This soundtrack is my favorite music...</td>\n",
              "      <td>amazing soundtrack favorite music time hands i...</td>\n",
              "    </tr>\n",
              "    <tr>\n",
              "      <th>3</th>\n",
              "      <td>1</td>\n",
              "      <td>Excellent Soundtrack: I truly like this soundt...</td>\n",
              "      <td>excellent soundtrack truly like soundtrack enj...</td>\n",
              "    </tr>\n",
              "    <tr>\n",
              "      <th>4</th>\n",
              "      <td>1</td>\n",
              "      <td>Remember, Pull Your Jaw Off The Floor After He...</td>\n",
              "      <td>remember pull jaw floor hearing played game kn...</td>\n",
              "    </tr>\n",
              "  </tbody>\n",
              "</table>\n",
              "</div>\n",
              "    <div class=\"colab-df-buttons\">\n",
              "\n",
              "  <div class=\"colab-df-container\">\n",
              "    <button class=\"colab-df-convert\" onclick=\"convertToInteractive('df-28811de3-94c1-45d8-88bd-effd1057f429')\"\n",
              "            title=\"Convert this dataframe to an interactive table.\"\n",
              "            style=\"display:none;\">\n",
              "\n",
              "  <svg xmlns=\"http://www.w3.org/2000/svg\" height=\"24px\" viewBox=\"0 -960 960 960\">\n",
              "    <path d=\"M120-120v-720h720v720H120Zm60-500h600v-160H180v160Zm220 220h160v-160H400v160Zm0 220h160v-160H400v160ZM180-400h160v-160H180v160Zm440 0h160v-160H620v160ZM180-180h160v-160H180v160Zm440 0h160v-160H620v160Z\"/>\n",
              "  </svg>\n",
              "    </button>\n",
              "\n",
              "  <style>\n",
              "    .colab-df-container {\n",
              "      display:flex;\n",
              "      gap: 12px;\n",
              "    }\n",
              "\n",
              "    .colab-df-convert {\n",
              "      background-color: #E8F0FE;\n",
              "      border: none;\n",
              "      border-radius: 50%;\n",
              "      cursor: pointer;\n",
              "      display: none;\n",
              "      fill: #1967D2;\n",
              "      height: 32px;\n",
              "      padding: 0 0 0 0;\n",
              "      width: 32px;\n",
              "    }\n",
              "\n",
              "    .colab-df-convert:hover {\n",
              "      background-color: #E2EBFA;\n",
              "      box-shadow: 0px 1px 2px rgba(60, 64, 67, 0.3), 0px 1px 3px 1px rgba(60, 64, 67, 0.15);\n",
              "      fill: #174EA6;\n",
              "    }\n",
              "\n",
              "    .colab-df-buttons div {\n",
              "      margin-bottom: 4px;\n",
              "    }\n",
              "\n",
              "    [theme=dark] .colab-df-convert {\n",
              "      background-color: #3B4455;\n",
              "      fill: #D2E3FC;\n",
              "    }\n",
              "\n",
              "    [theme=dark] .colab-df-convert:hover {\n",
              "      background-color: #434B5C;\n",
              "      box-shadow: 0px 1px 3px 1px rgba(0, 0, 0, 0.15);\n",
              "      filter: drop-shadow(0px 1px 2px rgba(0, 0, 0, 0.3));\n",
              "      fill: #FFFFFF;\n",
              "    }\n",
              "  </style>\n",
              "\n",
              "    <script>\n",
              "      const buttonEl =\n",
              "        document.querySelector('#df-28811de3-94c1-45d8-88bd-effd1057f429 button.colab-df-convert');\n",
              "      buttonEl.style.display =\n",
              "        google.colab.kernel.accessAllowed ? 'block' : 'none';\n",
              "\n",
              "      async function convertToInteractive(key) {\n",
              "        const element = document.querySelector('#df-28811de3-94c1-45d8-88bd-effd1057f429');\n",
              "        const dataTable =\n",
              "          await google.colab.kernel.invokeFunction('convertToInteractive',\n",
              "                                                    [key], {});\n",
              "        if (!dataTable) return;\n",
              "\n",
              "        const docLinkHtml = 'Like what you see? Visit the ' +\n",
              "          '<a target=\"_blank\" href=https://colab.research.google.com/notebooks/data_table.ipynb>data table notebook</a>'\n",
              "          + ' to learn more about interactive tables.';\n",
              "        element.innerHTML = '';\n",
              "        dataTable['output_type'] = 'display_data';\n",
              "        await google.colab.output.renderOutput(dataTable, element);\n",
              "        const docLink = document.createElement('div');\n",
              "        docLink.innerHTML = docLinkHtml;\n",
              "        element.appendChild(docLink);\n",
              "      }\n",
              "    </script>\n",
              "  </div>\n",
              "\n",
              "\n",
              "<div id=\"df-d5638835-d394-4cf7-b3aa-bab62a1516f3\">\n",
              "  <button class=\"colab-df-quickchart\" onclick=\"quickchart('df-d5638835-d394-4cf7-b3aa-bab62a1516f3')\"\n",
              "            title=\"Suggest charts\"\n",
              "            style=\"display:none;\">\n",
              "\n",
              "<svg xmlns=\"http://www.w3.org/2000/svg\" height=\"24px\"viewBox=\"0 0 24 24\"\n",
              "     width=\"24px\">\n",
              "    <g>\n",
              "        <path d=\"M19 3H5c-1.1 0-2 .9-2 2v14c0 1.1.9 2 2 2h14c1.1 0 2-.9 2-2V5c0-1.1-.9-2-2-2zM9 17H7v-7h2v7zm4 0h-2V7h2v10zm4 0h-2v-4h2v4z\"/>\n",
              "    </g>\n",
              "</svg>\n",
              "  </button>\n",
              "\n",
              "<style>\n",
              "  .colab-df-quickchart {\n",
              "      --bg-color: #E8F0FE;\n",
              "      --fill-color: #1967D2;\n",
              "      --hover-bg-color: #E2EBFA;\n",
              "      --hover-fill-color: #174EA6;\n",
              "      --disabled-fill-color: #AAA;\n",
              "      --disabled-bg-color: #DDD;\n",
              "  }\n",
              "\n",
              "  [theme=dark] .colab-df-quickchart {\n",
              "      --bg-color: #3B4455;\n",
              "      --fill-color: #D2E3FC;\n",
              "      --hover-bg-color: #434B5C;\n",
              "      --hover-fill-color: #FFFFFF;\n",
              "      --disabled-bg-color: #3B4455;\n",
              "      --disabled-fill-color: #666;\n",
              "  }\n",
              "\n",
              "  .colab-df-quickchart {\n",
              "    background-color: var(--bg-color);\n",
              "    border: none;\n",
              "    border-radius: 50%;\n",
              "    cursor: pointer;\n",
              "    display: none;\n",
              "    fill: var(--fill-color);\n",
              "    height: 32px;\n",
              "    padding: 0;\n",
              "    width: 32px;\n",
              "  }\n",
              "\n",
              "  .colab-df-quickchart:hover {\n",
              "    background-color: var(--hover-bg-color);\n",
              "    box-shadow: 0 1px 2px rgba(60, 64, 67, 0.3), 0 1px 3px 1px rgba(60, 64, 67, 0.15);\n",
              "    fill: var(--button-hover-fill-color);\n",
              "  }\n",
              "\n",
              "  .colab-df-quickchart-complete:disabled,\n",
              "  .colab-df-quickchart-complete:disabled:hover {\n",
              "    background-color: var(--disabled-bg-color);\n",
              "    fill: var(--disabled-fill-color);\n",
              "    box-shadow: none;\n",
              "  }\n",
              "\n",
              "  .colab-df-spinner {\n",
              "    border: 2px solid var(--fill-color);\n",
              "    border-color: transparent;\n",
              "    border-bottom-color: var(--fill-color);\n",
              "    animation:\n",
              "      spin 1s steps(1) infinite;\n",
              "  }\n",
              "\n",
              "  @keyframes spin {\n",
              "    0% {\n",
              "      border-color: transparent;\n",
              "      border-bottom-color: var(--fill-color);\n",
              "      border-left-color: var(--fill-color);\n",
              "    }\n",
              "    20% {\n",
              "      border-color: transparent;\n",
              "      border-left-color: var(--fill-color);\n",
              "      border-top-color: var(--fill-color);\n",
              "    }\n",
              "    30% {\n",
              "      border-color: transparent;\n",
              "      border-left-color: var(--fill-color);\n",
              "      border-top-color: var(--fill-color);\n",
              "      border-right-color: var(--fill-color);\n",
              "    }\n",
              "    40% {\n",
              "      border-color: transparent;\n",
              "      border-right-color: var(--fill-color);\n",
              "      border-top-color: var(--fill-color);\n",
              "    }\n",
              "    60% {\n",
              "      border-color: transparent;\n",
              "      border-right-color: var(--fill-color);\n",
              "    }\n",
              "    80% {\n",
              "      border-color: transparent;\n",
              "      border-right-color: var(--fill-color);\n",
              "      border-bottom-color: var(--fill-color);\n",
              "    }\n",
              "    90% {\n",
              "      border-color: transparent;\n",
              "      border-bottom-color: var(--fill-color);\n",
              "    }\n",
              "  }\n",
              "</style>\n",
              "\n",
              "  <script>\n",
              "    async function quickchart(key) {\n",
              "      const quickchartButtonEl =\n",
              "        document.querySelector('#' + key + ' button');\n",
              "      quickchartButtonEl.disabled = true;  // To prevent multiple clicks.\n",
              "      quickchartButtonEl.classList.add('colab-df-spinner');\n",
              "      try {\n",
              "        const charts = await google.colab.kernel.invokeFunction(\n",
              "            'suggestCharts', [key], {});\n",
              "      } catch (error) {\n",
              "        console.error('Error during call to suggestCharts:', error);\n",
              "      }\n",
              "      quickchartButtonEl.classList.remove('colab-df-spinner');\n",
              "      quickchartButtonEl.classList.add('colab-df-quickchart-complete');\n",
              "    }\n",
              "    (() => {\n",
              "      let quickchartButtonEl =\n",
              "        document.querySelector('#df-d5638835-d394-4cf7-b3aa-bab62a1516f3 button');\n",
              "      quickchartButtonEl.style.display =\n",
              "        google.colab.kernel.accessAllowed ? 'block' : 'none';\n",
              "    })();\n",
              "  </script>\n",
              "</div>\n",
              "    </div>\n",
              "  </div>\n"
            ],
            "text/plain": [
              "   label                                               text  \\\n",
              "0      1  Stuning even for the non-gamer: This sound tra...   \n",
              "1      1  The best soundtrack ever to anything.: I'm rea...   \n",
              "2      1  Amazing!: This soundtrack is my favorite music...   \n",
              "3      1  Excellent Soundtrack: I truly like this soundt...   \n",
              "4      1  Remember, Pull Your Jaw Off The Floor After He...   \n",
              "\n",
              "                                        stemmed_text  \n",
              "0  stuning even non gamer sound track beautiful p...  \n",
              "1  best soundtrack ever anything reading lot revi...  \n",
              "2  amazing soundtrack favorite music time hands i...  \n",
              "3  excellent soundtrack truly like soundtrack enj...  \n",
              "4  remember pull jaw floor hearing played game kn...  "
            ]
          },
          "execution_count": 18,
          "metadata": {},
          "output_type": "execute_result"
        }
      ],
      "source": [
        "# how data look loke after cleaning\n",
        "Amazone_train.head()"
      ]
    },
    {
      "cell_type": "code",
      "execution_count": null,
      "metadata": {
        "id": "pgXYWleGRsQP"
      },
      "outputs": [],
      "source": [
        "# function for both stemming and lemmaziration\n",
        "import spacy\n",
        "#import re\n",
        "\n",
        "# Load English tokenizer, tagger, parser, NER and word vectors\n",
        "nlp = spacy.load('en_core_web_sm')\n",
        "\n",
        "# Disabling unneeded components for efficiency\n",
        "nlp.disable_pipes('ner', 'parser')  # Only tokenization and lemmatization are needed\n",
        "\n",
        "def clean_and_lemmatize(texts):\n",
        "    # Preprocess and clean text outside the pipeline for better performance\n",
        "    cleaned_texts = (re.sub('[^a-zA-Z]', ' ', text).lower() for text in texts)\n",
        "\n",
        "    # Process texts as a stream using nlp.pipe for efficient batch processing\n",
        "    for doc in nlp.pipe(cleaned_texts, batch_size=1000):\n",
        "        # Filter out stopwords and non-alpha tokens, then lemmatize\n",
        "        lemmatized_text = ' '.join(token.lemma_ for token in doc if not token.is_stop and token.is_alpha)\n",
        "        yield lemmatized_text\n"
      ]
    },
    {
      "cell_type": "code",
      "execution_count": null,
      "metadata": {
        "colab": {
          "base_uri": "https://localhost:8080/"
        },
        "id": "2VKW4Pznj-Is",
        "outputId": "03b2fa8d-ff08-4d0a-d73b-61bad3034e74"
      },
      "outputs": [
        {
          "name": "stderr",
          "output_type": "stream",
          "text": [
            "<ipython-input-24-cb4e0c6999bd>:2: SettingWithCopyWarning: \n",
            "A value is trying to be set on a copy of a slice from a DataFrame.\n",
            "Try using .loc[row_indexer,col_indexer] = value instead\n",
            "\n",
            "See the caveats in the documentation: https://pandas.pydata.org/pandas-docs/stable/user_guide/indexing.html#returning-a-view-versus-a-copy\n",
            "  Amazone_train['stemmed_text_2'] = list(clean_and_lemmatize(Amazone_train['text']))\n"
          ]
        }
      ],
      "source": [
        "# Adding columns to dataframe  after lemmelization\n",
        "Amazone_train['stemmed_text_2'] = list(clean_and_lemmatize(Amazone_train['text']))"
      ]
    },
    {
      "cell_type": "code",
      "execution_count": null,
      "metadata": {
        "colab": {
          "base_uri": "https://localhost:8080/"
        },
        "id": "XeKgqGW7Wl5g",
        "outputId": "cea1a560-1156-4f29-d9f6-7a73b952b1e3"
      },
      "outputs": [
        {
          "name": "stdout",
          "output_type": "stream",
          "text": [
            "0         stuning even non gamer sound track beautiful p...\n",
            "1         best soundtrack ever anything reading lot revi...\n",
            "2         amazing soundtrack favorite music time hands i...\n",
            "3         excellent soundtrack truly like soundtrack enj...\n",
            "4         remember pull jaw floor hearing played game kn...\n",
            "                                ...                        \n",
            "199995    lanterns lit world book exciting look graphics...\n",
            "199996    antique lantern guide learning subject gave ex...\n",
            "199997    great old school gundam fans gundam battle ass...\n",
            "199998    great game great game characters pilots choose...\n",
            "199999    great game game love much fun always play gund...\n",
            "Name: stemmed_text, Length: 200000, dtype: object\n"
          ]
        }
      ],
      "source": [
        "print(Amazone_train['stemmed_text'])"
      ]
    },
    {
      "cell_type": "markdown",
      "metadata": {
        "id": "ZPIPzf6uhIm9"
      },
      "source": [
        "After trying on both 2 techniques,choose to use data after stemming only"
      ]
    },
    {
      "cell_type": "code",
      "execution_count": null,
      "metadata": {
        "colab": {
          "base_uri": "https://localhost:8080/"
        },
        "id": "huYjoIBB7u_h",
        "outputId": "cb450626-a29c-490f-c2f3-2065e955167e"
      },
      "outputs": [
        {
          "name": "stderr",
          "output_type": "stream",
          "text": [
            "<ipython-input-30-7b97b1b53c57>:1: SettingWithCopyWarning: \n",
            "A value is trying to be set on a copy of a slice from a DataFrame\n",
            "\n",
            "See the caveats in the documentation: https://pandas.pydata.org/pandas-docs/stable/user_guide/indexing.html#returning-a-view-versus-a-copy\n",
            "  Amazone_train.drop(['text', 'stemmed_text'], axis=1, inplace=True)\n"
          ]
        }
      ],
      "source": [
        "#Amazone_train.drop(['text', 'stemmed_text_2'], axis=1, inplace=True)"
      ]
    },
    {
      "cell_type": "code",
      "execution_count": null,
      "metadata": {
        "id": "r1VKoIU3rqfG"
      },
      "outputs": [],
      "source": [
        "# Seperating data and lable for both training and testing data\n",
        "X = Amazone_train['stemmed_text'].values\n",
        "Y = Amazone_train['label'].values"
      ]
    },
    {
      "cell_type": "code",
      "execution_count": null,
      "metadata": {
        "id": "5VH9gRkYaJnT"
      },
      "outputs": [],
      "source": [
        "#Split the Dataset\n",
        "from sklearn.model_selection import train_test_split\n",
        "X_train, X_test, Y_train, Y_test = train_test_split(X, Y, test_size=0.2, random_state=32, stratify=Y)"
      ]
    },
    {
      "cell_type": "code",
      "execution_count": null,
      "metadata": {
        "colab": {
          "base_uri": "https://localhost:8080/"
        },
        "id": "rCGjXZur7kVi",
        "outputId": "8f8df4cd-8f14-4b7b-8c6f-8472a854f737"
      },
      "outputs": [
        {
          "name": "stdout",
          "output_type": "stream",
          "text": [
            "['cracks showing slagging pogues something like going true bands like means take criticism well accolades fact album misses mark far band might even star affair pogues spider stacy claimed timid raucous hogwash songwriting uninteresting conviction band especially shaneis vocals found wanting album never really gels pogues release matt johnsonis subsequent thethe releases following infected similar total departure might saluted artistic read maturity change less interesting result find used cheap might want pick otherwise forget sure pogues already'\n",
            " 'two hours never get back heard remaking haunting excited love original movie thought modern techniques could make good movie better wrong sitting stinker torture one worst movies ever seen thing thatis similar shirley jacksonis novel original movie name want something fun go get root canal would lot fun movie'\n",
            " 'took forever arrive took couple months receive order seems ran stock real hurry replenish offered refund really wanted smoker hence order placed waited cameron smoker one heavy duty piece equipment featured emerilis show certainly professional grade construction'\n",
            " ...\n",
            " 'steady price increase buying pampers baby dry amazon many months price increased every month product quantity unacceptable love diapers likely buying somewhere else'\n",
            " 'deep wizardry best book series diane duane takes unbelievable adventure nita kit book put vivid picture happening head read made feel like soul singing melody waves nita kit traveled bit book gobbled done thirsty best piece literature ever read people believe magic bit probably would like everyone else read book'\n",
            " 'wonderful machine using machine two years make loaves per week great investment need replace bread pan definitely buy breadman time comes replace whole machine']\n",
            "[0 0 1 ... 0 1 1]\n"
          ]
        }
      ],
      "source": [
        "print(X_train)\n",
        "print(Y_train)"
      ]
    },
    {
      "cell_type": "markdown",
      "metadata": {
        "id": "MQsC3vf27tmK"
      },
      "source": [
        "Data visualization"
      ]
    },
    {
      "cell_type": "code",
      "execution_count": null,
      "metadata": {
        "colab": {
          "base_uri": "https://localhost:8080/",
          "height": 395
        },
        "id": "skCx5jC07u2h",
        "outputId": "eaad045a-3fad-45b8-c388-6c08a10b0ce7"
      },
      "outputs": [
        {
          "name": "stdout",
          "output_type": "stream",
          "text": [
            "['kaufmann', 'lives', 'name', 'selections', 'excellent', 'book', 'ruined', 'kaufmannis', 'philistine', 'misunderstanding', 'sartre', 'nietzsche', 'especially', 'kierkegaard', 'last', 'point', 'see', 'previous', 'reviewers', 'details', 'wkis', 'ludicrous', 'misunderstanding', 'read', 'authors', 'included', 'available', 'affordable', 'english', 'translations', 'apart', 'atrociously', 'edited', 'anthology', 'descriptive', 'fascinating', 'read', 'really', 'enjoyed', 'book', 'saw', 'special', 'lillian', 'helllman', 'pbs', 'purchased', 'book', 'led', 'fascinating', 'life']\n"
          ]
        },
        {
          "data": {
            "image/png": "[encoded data removed]",
            "text/plain": [
              "<Figure size 1200x500 with 1 Axes>"
            ]
          },
          "metadata": {},
          "output_type": "display_data"
        }
      ],
      "source": [
        "\n",
        "from nltk.probability import FreqDist\n",
        "all_words = []\n",
        "for text in X_train:\n",
        "    all_words.extend(text.split())\n",
        "\n",
        "print(all_words[:50])\n",
        "\n",
        "# Frequency Distribution\n",
        "freq_dist = nltk.FreqDist(all_words)\n",
        "\n",
        "plt.figure(figsize=(12,5))\n",
        "plt.title('Top 25 most common words')\n",
        "plt.xticks(fontsize=15)\n",
        "\n",
        "freq_dist.plot(25, cumulative=False)\n",
        "\n",
        "plt.show()"
      ]
    },
    {
      "cell_type": "markdown",
      "metadata": {
        "id": "l9_r0MfIiHlL"
      },
      "source": [
        "### Machine learning model\n"
      ]
    },
    {
      "cell_type": "code",
      "execution_count": null,
      "metadata": {
        "id": "F5l2STdP7kYz"
      },
      "outputs": [],
      "source": [
        "# Converting textual data to numerical data using TflidfVectorizer\n",
        "from sklearn.feature_extraction.text import TfidfVectorizer\n",
        "vectorizer_ML = TfidfVectorizer(ngram_range=(1, 1))# preferable because it captured the word inportance more than one-hot encoding\n",
        "X_train_ML = vectorizer_ML.fit_transform(X_train)"
      ]
    },
    {
      "cell_type": "code",
      "execution_count": null,
      "metadata": {
        "colab": {
          "base_uri": "https://localhost:8080/"
        },
        "id": "_KkcySlPSvI3",
        "outputId": "85aff151-b65b-4c39-9335-5283dfc2c797"
      },
      "outputs": [
        {
          "name": "stdout",
          "output_type": "stream",
          "text": [
            "  (0, 70793)\t0.10541234103352753\n",
            "  (0, 133953)\t0.06796041588811169\n",
            "  (0, 17480)\t0.2299903160643004\n",
            "  (0, 102424)\t0.2098819232861664\n",
            "  (0, 49639)\t0.09829971995811027\n",
            "  (0, 47056)\t0.22854225307322715\n",
            "  (0, 80237)\t0.13292193614590123\n",
            "  (0, 82737)\t0.11928834713950402\n",
            "  (0, 62760)\t0.2252008353387793\n",
            "  (0, 107855)\t0.21267231873887435\n",
            "  (0, 119736)\t0.11889002604277496\n",
            "  (0, 120497)\t0.10243471741682321\n",
            "  (0, 106081)\t0.11209122459600158\n",
            "  (0, 40450)\t0.09112153988183974\n",
            "  (0, 79005)\t0.11255301810376557\n",
            "  (0, 133891)\t0.1160007653312415\n",
            "  (0, 84415)\t0.05817392002059913\n",
            "  (0, 122416)\t0.19609881653925973\n",
            "  (0, 114367)\t0.21113308429334238\n",
            "  (0, 109266)\t0.1634315817700476\n",
            "  (0, 134200)\t0.12045989448070066\n",
            "  (0, 11684)\t0.08576658519533437\n",
            "  (0, 49980)\t0.06516093314487482\n",
            "  (0, 72384)\t0.09220942303308143\n",
            "  (0, 26266)\t0.0822569866772553\n",
            "  (0, 118800)\t0.17944142873995464\n",
            "  (0, 77646)\t0.14676134630660753\n",
            "  (0, 120790)\t0.10071654659372349\n",
            "  (0, 78961)\t0.3104258853323091\n",
            "  (0, 85214)\t0.23044821301252139\n",
            "  (0, 70905)\t0.08341077090444193\n",
            "  (0, 40955)\t0.15153609376451008\n",
            "  (0, 53612)\t0.18727710776042145\n",
            "  (0, 99318)\t0.26471206938167985\n",
            "  (0, 53999)\t0.11973885890607783\n",
            "  (0, 8746)\t0.09350150556525923\n",
            "  (0, 48716)\t0.15004772184785842\n",
            "  (0, 56622)\t0.13454852405135595\n",
            "  (0, 124769)\t0.09437953621970475\n",
            "  (0, 130601)\t0.094266915297781\n",
            "  (0, 108847)\t0.1510544743240238\n",
            "  (0, 81298)\t0.09223945974871402\n",
            "  (0, 111267)\t0.10111540420328488\n"
          ]
        }
      ],
      "source": [
        "print(X_train_ML[1])"
      ]
    },
    {
      "cell_type": "code",
      "execution_count": null,
      "metadata": {
        "id": "QsG8fxXjIVTS"
      },
      "outputs": [],
      "source": [
        "X_test_ML = vectorizer_ML.transform(X_test)"
      ]
    },
    {
      "cell_type": "code",
      "execution_count": null,
      "metadata": {
        "colab": {
          "base_uri": "https://localhost:8080/"
        },
        "id": "YfqVcei1WILi",
        "outputId": "730d1e75-b12b-4731-b28c-3be874e9062f"
      },
      "outputs": [
        {
          "name": "stdout",
          "output_type": "stream",
          "text": [
            "  (0, 134794)\t0.15636337561293162\n",
            "  (0, 129826)\t0.18520032267631803\n",
            "  (0, 120524)\t0.1296902038492008\n",
            "  (0, 118885)\t0.26222984320506443\n",
            "  (0, 102677)\t0.2641282903679592\n",
            "  (0, 95409)\t0.14774903349496576\n",
            "  (0, 90769)\t0.1700805904402719\n",
            "  (0, 78247)\t0.25378415982841673\n",
            "  (0, 74047)\t0.33985732866659657\n",
            "  (0, 70905)\t0.12101003581847189\n",
            "  (0, 57811)\t0.46328640970225343\n",
            "  (0, 50916)\t0.09556937044911962\n",
            "  (0, 49980)\t0.09453367674613404\n",
            "  (0, 47038)\t0.24356955595404395\n",
            "  (0, 21045)\t0.19553653864694148\n",
            "  (0, 18999)\t0.28122184899822067\n",
            "  (0, 10472)\t0.36227436064834484\n",
            "  (1, 134815)\t0.05547978071475605\n",
            "  (1, 133953)\t0.03927265860062026\n",
            "  (1, 128313)\t0.09179634221413992\n",
            "  (1, 124847)\t0.07876862008752639\n",
            "  (1, 124769)\t0.05453962069543078\n",
            "  (1, 124487)\t0.07748055653699559\n",
            "  (1, 122211)\t0.21107661514190995\n",
            "  (1, 121384)\t0.04236488766107205\n",
            "  :\t:\n",
            "  (59999, 52097)\t0.06847235380895365\n",
            "  (59999, 50916)\t0.033384691720080586\n",
            "  (59999, 50714)\t0.09521924222649443\n",
            "  (59999, 49980)\t0.033022898869210955\n",
            "  (59999, 49639)\t0.04981729932920329\n",
            "  (59999, 48716)\t0.07604266091648283\n",
            "  (59999, 44517)\t0.11612022213170395\n",
            "  (59999, 44087)\t0.08268532623920043\n",
            "  (59999, 43972)\t0.11655675543201809\n",
            "  (59999, 43947)\t0.051334909058629793\n",
            "  (59999, 42492)\t0.1472112385417618\n",
            "  (59999, 40403)\t0.040737766620743146\n",
            "  (59999, 35481)\t0.3046982563447636\n",
            "  (59999, 30873)\t0.07758097916080095\n",
            "  (59999, 29909)\t0.13691770522497193\n",
            "  (59999, 29741)\t0.07653090407050811\n",
            "  (59999, 22836)\t0.12768978630736422\n",
            "  (59999, 21353)\t0.10444716114410214\n",
            "  (59999, 19783)\t0.05935272076240098\n",
            "  (59999, 13081)\t0.10135192952432862\n",
            "  (59999, 11579)\t0.042955395744648156\n",
            "  (59999, 6735)\t0.15643915745936954\n",
            "  (59999, 4407)\t0.3216550618436587\n",
            "  (59999, 3155)\t0.08527387396259785\n",
            "  (59999, 2157)\t0.0991989295471793\n"
          ]
        }
      ],
      "source": [
        "print(X_test_ML)"
      ]
    },
    {
      "cell_type": "code",
      "execution_count": null,
      "metadata": {
        "colab": {
          "base_uri": "https://localhost:8080/",
          "height": 74
        },
        "id": "PbliJbCb7kbX",
        "outputId": "40e29de1-326f-4ae4-9684-0477deee194b"
      },
      "outputs": [
        {
          "data": {
            "text/html": [
              "<style>#sk-container-id-1 {color: black;background-color: white;}#sk-container-id-1 pre{padding: 0;}#sk-container-id-1 div.sk-toggleable {background-color: white;}#sk-container-id-1 label.sk-toggleable__label {cursor: pointer;display: block;width: 100%;margin-bottom: 0;padding: 0.3em;box-sizing: border-box;text-align: center;}#sk-container-id-1 label.sk-toggleable__label-arrow:before {content: \"▸\";float: left;margin-right: 0.25em;color: #696969;}#sk-container-id-1 label.sk-toggleable__label-arrow:hover:before {color: black;}#sk-container-id-1 div.sk-estimator:hover label.sk-toggleable__label-arrow:before {color: black;}#sk-container-id-1 div.sk-toggleable__content {max-height: 0;max-width: 0;overflow: hidden;text-align: left;background-color: #f0f8ff;}#sk-container-id-1 div.sk-toggleable__content pre {margin: 0.2em;color: black;border-radius: 0.25em;background-color: #f0f8ff;}#sk-container-id-1 input.sk-toggleable__control:checked~div.sk-toggleable__content {max-height: 200px;max-width: 100%;overflow: auto;}#sk-container-id-1 input.sk-toggleable__control:checked~label.sk-toggleable__label-arrow:before {content: \"▾\";}#sk-container-id-1 div.sk-estimator input.sk-toggleable__control:checked~label.sk-toggleable__label {background-color: #d4ebff;}#sk-container-id-1 div.sk-label input.sk-toggleable__control:checked~label.sk-toggleable__label {background-color: #d4ebff;}#sk-container-id-1 input.sk-hidden--visually {border: 0;clip: rect(1px 1px 1px 1px);clip: rect(1px, 1px, 1px, 1px);height: 1px;margin: -1px;overflow: hidden;padding: 0;position: absolute;width: 1px;}#sk-container-id-1 div.sk-estimator {font-family: monospace;background-color: #f0f8ff;border: 1px dotted black;border-radius: 0.25em;box-sizing: border-box;margin-bottom: 0.5em;}#sk-container-id-1 div.sk-estimator:hover {background-color: #d4ebff;}#sk-container-id-1 div.sk-parallel-item::after {content: \"\";width: 100%;border-bottom: 1px solid gray;flex-grow: 1;}#sk-container-id-1 div.sk-label:hover label.sk-toggleable__label {background-color: #d4ebff;}#sk-container-id-1 div.sk-serial::before {content: \"\";position: absolute;border-left: 1px solid gray;box-sizing: border-box;top: 0;bottom: 0;left: 50%;z-index: 0;}#sk-container-id-1 div.sk-serial {display: flex;flex-direction: column;align-items: center;background-color: white;padding-right: 0.2em;padding-left: 0.2em;position: relative;}#sk-container-id-1 div.sk-item {position: relative;z-index: 1;}#sk-container-id-1 div.sk-parallel {display: flex;align-items: stretch;justify-content: center;background-color: white;position: relative;}#sk-container-id-1 div.sk-item::before, #sk-container-id-1 div.sk-parallel-item::before {content: \"\";position: absolute;border-left: 1px solid gray;box-sizing: border-box;top: 0;bottom: 0;left: 50%;z-index: -1;}#sk-container-id-1 div.sk-parallel-item {display: flex;flex-direction: column;z-index: 1;position: relative;background-color: white;}#sk-container-id-1 div.sk-parallel-item:first-child::after {align-self: flex-end;width: 50%;}#sk-container-id-1 div.sk-parallel-item:last-child::after {align-self: flex-start;width: 50%;}#sk-container-id-1 div.sk-parallel-item:only-child::after {width: 0;}#sk-container-id-1 div.sk-dashed-wrapped {border: 1px dashed gray;margin: 0 0.4em 0.5em 0.4em;box-sizing: border-box;padding-bottom: 0.4em;background-color: white;}#sk-container-id-1 div.sk-label label {font-family: monospace;font-weight: bold;display: inline-block;line-height: 1.2em;}#sk-container-id-1 div.sk-label-container {text-align: center;}#sk-container-id-1 div.sk-container {/* jupyter's `normalize.less` sets `[hidden] { display: none; }` but bootstrap.min.css set `[hidden] { display: none !important; }` so we also need the `!important` here to be able to override the default hidden behavior on the sphinx rendered scikit-learn.org. See: https://github.com/scikit-learn/scikit-learn/issues/21755 */display: inline-block !important;position: relative;}#sk-container-id-1 div.sk-text-repr-fallback {display: none;}</style><div id=\"sk-container-id-1\" class=\"sk-top-container\"><div class=\"sk-text-repr-fallback\"><pre>LogisticRegression()</pre><b>In a Jupyter environment, please rerun this cell to show the HTML representation or trust the notebook. <br />On GitHub, the HTML representation is unable to render, please try loading this page with nbviewer.org.</b></div><div class=\"sk-container\" hidden><div class=\"sk-item\"><div class=\"sk-estimator sk-toggleable\"><input class=\"sk-toggleable__control sk-hidden--visually\" id=\"sk-estimator-id-1\" type=\"checkbox\" checked><label for=\"sk-estimator-id-1\" class=\"sk-toggleable__label sk-toggleable__label-arrow\">LogisticRegression</label><div class=\"sk-toggleable__content\"><pre>LogisticRegression()</pre></div></div></div></div></div>"
            ],
            "text/plain": [
              "LogisticRegression()"
            ]
          },
          "execution_count": 23,
          "metadata": {},
          "output_type": "execute_result"
        }
      ],
      "source": [
        "# Training the LogisticRegression model :\n",
        "model_logistic = LogisticRegression(max_iter=100)\n",
        "model_logistic.fit(X_train_ML, Y_train)"
      ]
    },
    {
      "cell_type": "code",
      "execution_count": null,
      "metadata": {
        "id": "Q1X60q1K7keA"
      },
      "outputs": [],
      "source": [
        "# accuracy score on training data :\n",
        "X_train_pred = model_logistic.predict(X_train_ML)\n",
        "training_acc = accuracy_score(Y_train, X_train_pred)"
      ]
    },
    {
      "cell_type": "code",
      "execution_count": null,
      "metadata": {
        "colab": {
          "base_uri": "https://localhost:8080/"
        },
        "id": "cLPrApxsJQrr",
        "outputId": "af110b40-fd2a-4bb8-8027-e2cfff514b33"
      },
      "outputs": [
        {
          "name": "stdout",
          "output_type": "stream",
          "text": [
            "Training data accuracy score: 0.9164083333333334\n"
          ]
        }
      ],
      "source": [
        "print('Training data accuracy score:', training_acc)"
      ]
    },
    {
      "cell_type": "code",
      "execution_count": null,
      "metadata": {
        "id": "6kUiVmIQJQuU"
      },
      "outputs": [],
      "source": [
        "#accuracy on testing data:\n",
        "X_test_pred = model_logistic.predict(X_test_ML)\n",
        "testing_acc = accuracy_score(Y_test, X_test_pred)\n"
      ]
    },
    {
      "cell_type": "code",
      "execution_count": null,
      "metadata": {
        "colab": {
          "base_uri": "https://localhost:8080/"
        },
        "id": "3GlpH017JQwy",
        "outputId": "4beb4103-de93-4a99-b596-0e05a6af4186"
      },
      "outputs": [
        {
          "name": "stdout",
          "output_type": "stream",
          "text": [
            "Testing data accuracy score: 0.8891666666666667\n"
          ]
        }
      ],
      "source": [
        "print('Testing data accuracy score:', testing_acc)"
      ]
    },
    {
      "cell_type": "code",
      "execution_count": null,
      "metadata": {
        "colab": {
          "base_uri": "https://localhost:8080/"
        },
        "id": "iEpPbFQELfZA",
        "outputId": "c9308719-f06f-40a6-ca3d-fe662243c94e"
      },
      "outputs": [
        {
          "name": "stdout",
          "output_type": "stream",
          "text": [
            "  (0, 116316)\t0.1123266160366012\n",
            "  (0, 116155)\t0.19990520672119255\n",
            "  (0, 94335)\t0.5050945937860107\n",
            "  (0, 85449)\t0.1614506030926427\n",
            "  (0, 85428)\t0.10761653870854397\n",
            "  (0, 79206)\t0.26477053266267014\n",
            "  (0, 78132)\t0.1733773142697955\n",
            "  (0, 76791)\t0.06338621543390471\n",
            "  (0, 71580)\t0.5074855529427765\n",
            "  (0, 66419)\t0.09918917204171818\n",
            "  (0, 62608)\t0.1293453013692696\n",
            "  (0, 13376)\t0.15999625856237892\n",
            "  (0, 7029)\t0.4906754996206185\n",
            "This is positive review with rating from 4 to 5 stars\n"
          ]
        }
      ],
      "source": [
        "# Test 1 output form test data:\n",
        "X_test_1 = X_test_ML[145]\n",
        "print(X_test_1)\n",
        "pred_1 = model_logistic.predict(X_test_1)\n",
        "if (pred_1[0] == 1):\n",
        "  print('This is negative review with rating from 1 to 2 stars')\n",
        "else:\n",
        "  print('This is positive review with rating from 4 to 5 stars')\n"
      ]
    },
    {
      "cell_type": "markdown",
      "metadata": {
        "id": "CUEPoflNOxei"
      },
      "source": [
        "After performing the simpler machine learning tasks on Amazone sentiment analysis , we continue with the RNN models, Before buiding model with suitable model architecture ,we need to aplply more of the data processing techniques such as words embedding using pre_trained GLOVE model"
      ]
    },
    {
      "cell_type": "markdown",
      "metadata": {
        "id": "R5axNfGtijzE"
      },
      "source": [
        "### CNN model:"
      ]
    },
    {
      "cell_type": "code",
      "execution_count": null,
      "metadata": {
        "id": "ZOJCvqSdaCfZ"
      },
      "outputs": [],
      "source": [
        "# Setting parameters\n",
        "MAX_SEQUENCE_LENGTH = 100\n",
        "MAX_VOCAB_SIZE = 10000\n",
        "EMBEDDING_DIM = 100\n",
        "VALIDATION_SPLIT = 0.2\n",
        "BATCH_SIZE = 32\n",
        "EPOCHS = 30\n"
      ]
    },
    {
      "cell_type": "code",
      "execution_count": null,
      "metadata": {
        "colab": {
          "background_save": true
        },
        "id": "5qxTyLvmPldi",
        "outputId": "ee018900-b395-422e-8157-a3db9285867b"
      },
      "outputs": [
        {
          "data": {
            "text/plain": [
              "2304"
            ]
          },
          "execution_count": 1,
          "metadata": {},
          "output_type": "execute_result"
        }
      ],
      "source": [
        "# Download the pre_trained Glove model 100 texts for word embedding\n",
        "import os\n",
        "# Define the URL and the target directory for GloVe vectors\n",
        "glove_url = 'http://nlp.stanford.edu/data/glove.6B.zip'\n",
        "glove_target_dir = '../large_files/glove.6B'\n",
        "\n",
        "# Create the directory if it doesn't exist\n",
        "os.makedirs(glove_target_dir, exist_ok=True)\n",
        "\n",
        "# Download the GloVe ZIP file\n",
        "os.system(f'wget {glove_url} -P {glove_target_dir}')\n",
        "\n",
        "# Unzip the file\n",
        "os.system(f'unzip {glove_target_dir}/glove.6B.zip -d {glove_target_dir}')"
      ]
    },
    {
      "cell_type": "code",
      "execution_count": null,
      "metadata": {
        "id": "fcQB_-Lb4fCY"
      },
      "outputs": [],
      "source": [
        "# Tokenize texts\n",
        "MAX_VOCAB_SIZE = 10000\n",
        "tokenizer = Tokenizer(filters=\"\", lower=False)#, oov_token=\"<oov>\")\n",
        "tokenizer.fit_on_texts(X_train)\n",
        "tokenizer.num_words = MAX_VOCAB_SIZE"
      ]
    },
    {
      "cell_type": "code",
      "execution_count": null,
      "metadata": {
        "colab": {
          "base_uri": "https://localhost:8080/"
        },
        "id": "r1F_a6aTB5M1",
        "outputId": "57b2e7e7-1926-493a-e5d7-3a336be22447"
      },
      "outputs": [
        {
          "name": "stdout",
          "output_type": "stream",
          "text": [
            "Tokenized Sequences (Before Padding):\n",
            "Sample 1: [1642, 17, 911, 633, 315, 134, 592, 72, 21, 995, 27, 956, 592]\n",
            "Sample 2: [171, 1, 11, 3307, 483, 197, 118, 16, 319, 1296, 71, 1015, 1080, 38, 422, 334, 121, 546, 257, 159, 436, 154, 898, 1803, 146, 65, 586, 653, 1547, 807, 168, 37, 1823, 4183, 62, 2, 293, 11, 225, 3140, 60, 2553, 1536, 71, 1, 444, 21, 483, 1033, 72, 25, 141, 225, 2132, 3328, 53, 187, 199, 109, 10, 1006]\n",
            "Sample 3: [746, 746, 566, 145, 215, 189, 1743, 29, 46, 6, 572, 49, 746, 1048, 985, 1214, 312, 980, 1975, 1803, 985, 417, 603, 54, 985]\n",
            "Sample 4: [378, 345, 3524, 684, 33, 550, 46, 597, 652, 78, 3511, 597, 2398, 652, 78, 1965, 3420, 3511, 597, 16, 1906, 460, 652, 78, 2230, 1499, 652, 78, 8483, 4208, 2506, 2913, 652, 1089, 4208, 5079, 361, 127, 4, 4498, 508, 652, 90, 685]\n",
            "Sample 5: [19, 255, 276, 32, 449, 4883, 23, 112, 69, 4087, 2296, 6211, 1425, 9665, 430, 88, 335, 6547, 1466, 1044, 26, 631, 1590, 5621, 235, 24, 51, 26, 20, 1083, 192]\n",
            "X_train_padded.shape: (120000, 100)\n",
            "X_test_padded.shape: (30000, 100)\n",
            "Tokenizer vocab length: 10000\n"
          ]
        }
      ],
      "source": [
        "## Tokenization and padding :\n",
        "\n",
        "# Create a new word index with only the top MAX_VOCAB_SIZE words\n",
        "word_index = tokenizer.word_index\n",
        "top_word_index = {word: index for word, index in word_index.items() if index <= MAX_VOCAB_SIZE}\n",
        "\n",
        "# Update the tokenizer's word index\n",
        "tokenizer.word_index = top_word_index\n",
        "tokenizer.num_words = MAX_VOCAB_SIZE\n",
        "\n",
        "# Tokenize sequences\n",
        "tokenized_train_sequences = tokenizer.texts_to_sequences(X_train)\n",
        "tokenized_test_sequences = tokenizer.texts_to_sequences(X_test)\n",
        "\n",
        "# Print tokenized sequences before padding\n",
        "print(\"Tokenized Sequences (Before Padding):\")\n",
        "for i, seq in enumerate(tokenized_train_sequences[:5], 1):\n",
        "    print(f\"Sample {i}: {seq}\")\n",
        "\n",
        "# Pad sequences\n",
        "X_train = pad_sequences(tokenized_train_sequences, maxlen=MAX_SEQUENCE_LENGTH, padding='post')\n",
        "X_test = pad_sequences(tokenized_test_sequences, maxlen=MAX_SEQUENCE_LENGTH, padding='post')\n",
        "\n",
        "# Print shapes and some details\n",
        "print(\"X_train_padded.shape:\", X_train.shape)\n",
        "print(\"X_test_padded.shape:\", X_test.shape)\n",
        "print(\"Tokenizer vocab length:\", len(tokenizer.word_index))\n",
        "\n"
      ]
    },
    {
      "cell_type": "code",
      "execution_count": null,
      "metadata": {
        "colab": {
          "base_uri": "https://localhost:8080/"
        },
        "id": "LV-S9c-v4fs3",
        "outputId": "75d5ef89-2e6a-4000-a5ed-f6a490c3d226"
      },
      "outputs": [
        {
          "name": "stdout",
          "output_type": "stream",
          "text": [
            "Tokenized and Padded Text in X_train:\n",
            "Sample 1 : [1642   17  911  633  315  134  592   72   21  995   27  956  592    0\n",
            "    0    0    0    0    0    0    0    0    0    0    0    0    0    0\n",
            "    0    0    0    0    0    0    0    0    0    0    0    0    0    0\n",
            "    0    0    0    0    0    0    0    0    0    0    0    0    0    0\n",
            "    0    0    0    0    0    0    0    0    0    0    0    0    0    0\n",
            "    0    0    0    0    0    0    0    0    0    0    0    0    0    0\n",
            "    0    0    0    0    0    0    0    0    0    0    0    0    0    0\n",
            "    0    0]\n"
          ]
        }
      ],
      "source": [
        "print(\"Tokenized and Padded Text in X_train:\")\n",
        "for i in range(1):  # Print the first 5 samples\n",
        "    print(\"Sample\", i+1, \":\", X_train[i])"
      ]
    },
    {
      "cell_type": "code",
      "execution_count": null,
      "metadata": {
        "colab": {
          "base_uri": "https://localhost:8080/"
        },
        "id": "5LkDo7qVPli6",
        "outputId": "eb4ca147-bb48-4512-e4a7-aeb08cd63216"
      },
      "outputs": [
        {
          "name": "stdout",
          "output_type": "stream",
          "text": [
            "max sequence length: 118\n",
            "min sequence length: 0\n",
            "median sequence length: 33\n",
            "max word index: 9999\n",
            "Found 10000 unique tokens.\n"
          ]
        }
      ],
      "source": [
        "print(\"max sequence length:\", max(len(s) for s in tokenized_train_sequences ))\n",
        "print(\"min sequence length:\", min(len(s) for s in tokenized_train_sequences ))\n",
        "s = sorted(len(s) for s in tokenized_train_sequences )\n",
        "print(\"median sequence length:\", s[len(s) // 2])\n",
        "\n",
        "print(\"max word index:\", max(max(seq) for seq in tokenized_train_sequences  if len(seq) > 0))\n",
        "\n",
        "\n",
        "# get word -> integer mapping\n",
        "word2idx = tokenizer.word_index\n",
        "print('Found %s unique tokens.' % len(word2idx))"
      ]
    },
    {
      "cell_type": "code",
      "execution_count": null,
      "metadata": {
        "colab": {
          "base_uri": "https://localhost:8080/"
        },
        "id": "RYRd3sZQRhOB",
        "outputId": "ad6624ff-4a53-4887-d48f-555bed101e91"
      },
      "outputs": [
        {
          "name": "stdout",
          "output_type": "stream",
          "text": [
            "['glove.6B.50d.txt', 'glove.6B.300d.txt', 'glove.6B.100d.txt', 'glove.6B.200d.txt', 'glove.6B.zip']\n"
          ]
        }
      ],
      "source": [
        "# locating the glove model:\n",
        "# Define the directory where you saved the GloVe file\n",
        "glove_directory = \"../large_files/glove.6B\"\n",
        "\n",
        "# List the contents of the directory\n",
        "contents = os.listdir(glove_directory)\n",
        "\n",
        "# Print the contents to find the GloVe file name\n",
        "print(contents)\n"
      ]
    },
    {
      "cell_type": "code",
      "execution_count": null,
      "metadata": {
        "id": "RWGUwiC8UfUw"
      },
      "outputs": [],
      "source": [
        "from gensim.models import KeyedVectors\n",
        "\n",
        "# Path to the downloaded GloVe file\n",
        "glove_file = \"/large_files/glove.6B/glove.6B.100d.txt\"\n",
        "\n",
        "\n",
        "# Load GloVe embeddings into memory\n",
        "word2vec = KeyedVectors.load_word2vec_format(glove_file, binary=False, no_header=True)\n",
        "\n"
      ]
    },
    {
      "cell_type": "code",
      "execution_count": null,
      "metadata": {
        "id": "W2lSrM1Ji_4A"
      },
      "outputs": [],
      "source": [
        "# Word_embedding using Glove\n",
        "word2idx = tokenizer.word_index\n",
        "# Initialize embedding matrix with zeros\n",
        "embedding_matrix = np.zeros((len(word2idx) + 1, 100))  # Adjust embedding dimension as per GloVe vectors (100d)\n",
        "\n",
        "# Populate embedding matrix with GloVe word vectors\n",
        "for word, i in word2idx.items():\n",
        "    if word in word2vec:\n",
        "        embedding_matrix[i] = word2vec[word]\n",
        "\n",
        "# Use embedding matrix to perform word embedding on X_train_padded and X_test_padded\n",
        "embedded_X_train = np.array([embedding_matrix[word] for word in X_train_padded])\n",
        "embedded_X_test = np.array([embedding_matrix[word] for word in X_test_padded])"
      ]
    },
    {
      "cell_type": "code",
      "execution_count": null,
      "metadata": {
        "colab": {
          "base_uri": "https://localhost:8080/"
        },
        "id": "SoitXW5Fr6ce",
        "outputId": "358258a7-be27-4486-8d85-a670d849b072"
      },
      "outputs": [
        {
          "name": "stdout",
          "output_type": "stream",
          "text": [
            "Mismatch between vocabulary size and embedding matrix dimensions.\n",
            "Vocabulary size: 10000\n",
            "Embedding matrix shape: (10001, 100)\n"
          ]
        }
      ],
      "source": [
        "# Check the length of word2idx (vocabulary size)\n",
        "vocabulary_size = len(word2idx)\n",
        "# Check the dimensions of the embedding matrix\n",
        "embedding_matrix_shape = embedding_matrix.shape\n",
        "# Compare the vocabulary size with the embedding matrix shape\n",
        "if vocabulary_size != embedding_matrix_shape[0]:\n",
        "    print(\"Mismatch between vocabulary size and embedding matrix dimensions.\")\n",
        "    print(\"Vocabulary size:\", vocabulary_size)\n",
        "    print(\"Embedding matrix shape:\", embedding_matrix_shape)\n",
        "else:\n",
        "    print(\"Vocabulary size matches embedding matrix dimensions.\")\n"
      ]
    },
    {
      "cell_type": "markdown",
      "metadata": {
        "id": "Yw9L7iUCZFnh"
      },
      "source": []
    },
    {
      "cell_type": "code",
      "execution_count": null,
      "metadata": {
        "colab": {
          "base_uri": "https://localhost:8080/"
        },
        "id": "rK9Gv_VIl_eM",
        "outputId": "115db5df-c013-41a7-cf67-25ec5aa8c19f"
      },
      "outputs": [
        {
          "name": "stdout",
          "output_type": "stream",
          "text": [
            "Vocabulary Coverage: 98.31%\n"
          ]
        }
      ],
      "source": [
        "# Checking for vocabulary coverage using that pre trained gove model of 100 common words\n",
        "# Get the set of words in the GloVe vocabulary\n",
        "glove_vocab = set(word2vec.index_to_key)\n",
        "\n",
        "# Get the set of words in your dataset's vocabulary\n",
        "dataset_vocab = set(word2idx.keys())\n",
        "\n",
        "# Calculate the intersection of the two vocabularies (words in both)\n",
        "intersection = glove_vocab.intersection(dataset_vocab)\n",
        "\n",
        "# Calculate the coverage percentage\n",
        "coverage_percentage = len(intersection) / len(dataset_vocab) * 100\n",
        "\n",
        "print(\"Vocabulary Coverage: {:.2f}%\".format(coverage_percentage))"
      ]
    },
    {
      "cell_type": "code",
      "execution_count": null,
      "metadata": {
        "id": "aIrw-fgaTCWP"
      },
      "outputs": [],
      "source": [
        "#Creating fucntion For out of vocabulary words,fill in vectirs with similar words\n",
        "def find_similar_word(word, model, topn=1):\n",
        "    try:\n",
        "        similar_words = model.most_similar(word, topn=topn)\n",
        "        return similar_words[0][0]  # Return the most similar word\n",
        "    except KeyError:\n",
        "        return None  # Return None if word not found in vocabulary"
      ]
    },
    {
      "cell_type": "code",
      "execution_count": null,
      "metadata": {
        "id": "Gxdv5ncAq6Wy"
      },
      "outputs": [],
      "source": [
        "def fill_with_similar_words(word2idx, word2vec_model, embedding_dim):\n",
        "    num_words = len(word2idx) # Increment the vocabulary size by 1 to account for the padding index\n",
        "    embedding_matrix = np.zeros((num_words, embedding_dim))\n",
        "    for word, i in word2idx.items():\n",
        "        if i < num_words:  # Check if the index is within bounds\n",
        "            embedding_vector = word2vec_model[word] if word in word2vec_model else None\n",
        "            if embedding_vector is not None:\n",
        "                embedding_matrix[i] = embedding_vector\n",
        "            else:\n",
        "                similar_word = find_similar_word(word, word2vec_model)\n",
        "                if similar_word is not None:\n",
        "                    embedding_matrix[i] = word2vec_model[similar_word]\n",
        "    return embedding_matrix\n"
      ]
    },
    {
      "cell_type": "code",
      "execution_count": null,
      "metadata": {
        "id": "LMOJACXOq-u_"
      },
      "outputs": [],
      "source": [
        "# Apply the fill_with_similar_words function to generate embedding matrices\n",
        "embedding_matrix_train = fill_with_similar_words(word2idx, word2vec, EMBEDDING_DIM)\n",
        "embedding_matrix_test = fill_with_similar_words(word2idx, word2vec, EMBEDDING_DIM)"
      ]
    },
    {
      "cell_type": "code",
      "execution_count": null,
      "metadata": {
        "colab": {
          "base_uri": "https://localhost:8080/"
        },
        "id": "PaP1_zKyufQU",
        "outputId": "0425c400-c3a7-414a-d9dc-64d7542d8bc3"
      },
      "outputs": [
        {
          "name": "stdout",
          "output_type": "stream",
          "text": [
            "(10000, 100)\n"
          ]
        }
      ],
      "source": [
        "#Checking the shape after word embedding\n",
        "print(embedding_matrix_train.shape)\n"
      ]
    },
    {
      "cell_type": "code",
      "execution_count": null,
      "metadata": {
        "id": "_y9NQBgwKIJf"
      },
      "outputs": [],
      "source": [
        "# Define Embedding layer for models\n",
        "embedding_layer = Embedding(\n",
        "  min(MAX_VOCAB_SIZE, len(word2idx)),\n",
        "  EMBEDDING_DIM,\n",
        "  weights=[embedding_matrix_train],\n",
        "  input_length=MAX_SEQUENCE_LENGTH,\n",
        "  trainable=False\n",
        ")\n"
      ]
    },
    {
      "cell_type": "markdown",
      "metadata": {
        "id": "gDddo0VhkfG7"
      },
      "source": [
        "Buidling CNN model"
      ]
    },
    {
      "cell_type": "code",
      "execution_count": null,
      "metadata": {
        "id": "9gg6UT42TBW-"
      },
      "outputs": [],
      "source": [
        "from keras.models import Sequential\n",
        "def getModel_cnn():\n",
        "    model = Sequential([\n",
        "        embedding_layer,\n",
        "        Conv1D(filters=128, kernel_size=5, activation='relu'),\n",
        "        MaxPooling1D(pool_size=2),\n",
        "        Conv1D(filters=64, kernel_size=3, activation='relu'),\n",
        "        GlobalMaxPooling1D(),\n",
        "        Dense(32, activation='relu'),\n",
        "        Dense(1, activation='sigmoid'),\n",
        "    ],\n",
        "    name=\"Sentiment_Model_CNN\")\n",
        "    return model"
      ]
    },
    {
      "cell_type": "code",
      "execution_count": null,
      "metadata": {
        "colab": {
          "base_uri": "https://localhost:8080/"
        },
        "id": "XAZYWNuD8Hso",
        "outputId": "2f64372e-b526-4144-86cc-e52de619a67d"
      },
      "outputs": [
        {
          "name": "stdout",
          "output_type": "stream",
          "text": [
            "Model: \"Sentiment_Model_CNN\"\n",
            "_________________________________________________________________\n",
            " Layer (type)                Output Shape              Param #   \n",
            "=================================================================\n",
            " embedding_4 (Embedding)     (None, 100, 100)          1000000   \n",
            "                                                                 \n",
            " conv1d_12 (Conv1D)          (None, 96, 128)           64128     \n",
            "                                                                 \n",
            " max_pooling1d_7 (MaxPoolin  (None, 48, 128)           0         \n",
            " g1D)                                                            \n",
            "                                                                 \n",
            " conv1d_13 (Conv1D)          (None, 46, 64)            24640     \n",
            "                                                                 \n",
            " global_max_pooling1d_8 (Gl  (None, 64)                0         \n",
            " obalMaxPooling1D)                                               \n",
            "                                                                 \n",
            " dense_23 (Dense)            (None, 32)                2080      \n",
            "                                                                 \n",
            " dense_24 (Dense)            (None, 1)                 33        \n",
            "                                                                 \n",
            "=================================================================\n",
            "Total params: 1090881 (4.16 MB)\n",
            "Trainable params: 90881 (355.00 KB)\n",
            "Non-trainable params: 1000000 (3.81 MB)\n",
            "_________________________________________________________________\n"
          ]
        }
      ],
      "source": [
        "training_model = getModel_cnn()\n",
        "training_model.summary()"
      ]
    },
    {
      "cell_type": "code",
      "execution_count": null,
      "metadata": {
        "id": "HsgW9LgB8BNS"
      },
      "outputs": [],
      "source": [
        "# Compiling the model\n",
        "training_model.compile(loss='binary_crossentropy', optimizer='adam', metrics=['accuracy'])"
      ]
    },
    {
      "cell_type": "code",
      "execution_count": null,
      "metadata": {
        "colab": {
          "base_uri": "https://localhost:8080/"
        },
        "id": "F83-jAFiJgym",
        "outputId": "df328e6d-80e1-4316-a4c0-0c34be8404ac"
      },
      "outputs": [
        {
          "name": "stdout",
          "output_type": "stream",
          "text": [
            "Training CNN model...\n",
            "Epoch 1/30\n",
            "3000/3000 [==============================] - 14s 4ms/step - loss: 0.4004 - accuracy: 0.8142 - val_loss: 0.3723 - val_accuracy: 0.8342\n",
            "Epoch 2/30\n",
            "3000/3000 [==============================] - 11s 4ms/step - loss: 0.3271 - accuracy: 0.8586 - val_loss: 0.3440 - val_accuracy: 0.8504\n",
            "Epoch 3/30\n",
            "3000/3000 [==============================] - 11s 4ms/step - loss: 0.2862 - accuracy: 0.8777 - val_loss: 0.3365 - val_accuracy: 0.8542\n",
            "Epoch 4/30\n",
            "3000/3000 [==============================] - 12s 4ms/step - loss: 0.2502 - accuracy: 0.8957 - val_loss: 0.3328 - val_accuracy: 0.8574\n",
            "Epoch 5/30\n",
            "3000/3000 [==============================] - 11s 4ms/step - loss: 0.2166 - accuracy: 0.9108 - val_loss: 0.3483 - val_accuracy: 0.8531\n",
            "Epoch 6/30\n",
            "3000/3000 [==============================] - 11s 4ms/step - loss: 0.1824 - accuracy: 0.9264 - val_loss: 0.3923 - val_accuracy: 0.8507\n",
            "Epoch 7/30\n",
            "3000/3000 [==============================] - 11s 4ms/step - loss: 0.1536 - accuracy: 0.9401 - val_loss: 0.4017 - val_accuracy: 0.8497\n",
            "Epoch 8/30\n",
            "3000/3000 [==============================] - 11s 4ms/step - loss: 0.1279 - accuracy: 0.9510 - val_loss: 0.4880 - val_accuracy: 0.8393\n",
            "Epoch 9/30\n",
            "3000/3000 [==============================] - 11s 4ms/step - loss: 0.1117 - accuracy: 0.9573 - val_loss: 0.5194 - val_accuracy: 0.8395\n",
            "Epoch 10/30\n",
            "3000/3000 [==============================] - 11s 4ms/step - loss: 0.0971 - accuracy: 0.9622 - val_loss: 0.5416 - val_accuracy: 0.8434\n",
            "Epoch 11/30\n",
            "3000/3000 [==============================] - 11s 4ms/step - loss: 0.0864 - accuracy: 0.9677 - val_loss: 0.5839 - val_accuracy: 0.8435\n",
            "Epoch 12/30\n",
            "3000/3000 [==============================] - 11s 4ms/step - loss: 0.0778 - accuracy: 0.9708 - val_loss: 0.5921 - val_accuracy: 0.8414\n",
            "Epoch 13/30\n",
            "3000/3000 [==============================] - 11s 4ms/step - loss: 0.0709 - accuracy: 0.9729 - val_loss: 0.6391 - val_accuracy: 0.8401\n",
            "Epoch 14/30\n",
            "3000/3000 [==============================] - 11s 4ms/step - loss: 0.0640 - accuracy: 0.9756 - val_loss: 0.7071 - val_accuracy: 0.8392\n",
            "Epoch 15/30\n",
            "3000/3000 [==============================] - 11s 4ms/step - loss: 0.0609 - accuracy: 0.9769 - val_loss: 0.6424 - val_accuracy: 0.8403\n",
            "Epoch 16/30\n",
            "3000/3000 [==============================] - 11s 4ms/step - loss: 0.0552 - accuracy: 0.9794 - val_loss: 0.7575 - val_accuracy: 0.8352\n",
            "Epoch 17/30\n",
            "3000/3000 [==============================] - 11s 4ms/step - loss: 0.0515 - accuracy: 0.9811 - val_loss: 0.7825 - val_accuracy: 0.8385\n",
            "Epoch 18/30\n",
            "3000/3000 [==============================] - 11s 4ms/step - loss: 0.0498 - accuracy: 0.9811 - val_loss: 0.7578 - val_accuracy: 0.8406\n",
            "Epoch 19/30\n",
            "3000/3000 [==============================] - 11s 4ms/step - loss: 0.0456 - accuracy: 0.9829 - val_loss: 0.7924 - val_accuracy: 0.8360\n",
            "Epoch 20/30\n",
            "3000/3000 [==============================] - 11s 4ms/step - loss: 0.0442 - accuracy: 0.9833 - val_loss: 0.8404 - val_accuracy: 0.8392\n",
            "Epoch 21/30\n",
            "3000/3000 [==============================] - 11s 4ms/step - loss: 0.0384 - accuracy: 0.9856 - val_loss: 0.8639 - val_accuracy: 0.8405\n",
            "Epoch 22/30\n",
            "3000/3000 [==============================] - 11s 4ms/step - loss: 0.0400 - accuracy: 0.9850 - val_loss: 0.8766 - val_accuracy: 0.8393\n",
            "Epoch 23/30\n",
            "3000/3000 [==============================] - 11s 4ms/step - loss: 0.0365 - accuracy: 0.9863 - val_loss: 0.9067 - val_accuracy: 0.8370\n",
            "Epoch 24/30\n",
            "3000/3000 [==============================] - 11s 4ms/step - loss: 0.0348 - accuracy: 0.9866 - val_loss: 0.8901 - val_accuracy: 0.8416\n",
            "Epoch 25/30\n",
            "3000/3000 [==============================] - 11s 4ms/step - loss: 0.0322 - accuracy: 0.9881 - val_loss: 0.9681 - val_accuracy: 0.8401\n",
            "Epoch 26/30\n",
            "3000/3000 [==============================] - 11s 4ms/step - loss: 0.0335 - accuracy: 0.9873 - val_loss: 0.9230 - val_accuracy: 0.8408\n",
            "Epoch 27/30\n",
            "3000/3000 [==============================] - 11s 4ms/step - loss: 0.0312 - accuracy: 0.9887 - val_loss: 0.9838 - val_accuracy: 0.8385\n",
            "Epoch 28/30\n",
            "3000/3000 [==============================] - 11s 4ms/step - loss: 0.0294 - accuracy: 0.9896 - val_loss: 0.9955 - val_accuracy: 0.8413\n",
            "Epoch 29/30\n",
            "3000/3000 [==============================] - 11s 4ms/step - loss: 0.0301 - accuracy: 0.9886 - val_loss: 0.9539 - val_accuracy: 0.8412\n",
            "Epoch 30/30\n",
            "3000/3000 [==============================] - 11s 4ms/step - loss: 0.0262 - accuracy: 0.9903 - val_loss: 0.9891 - val_accuracy: 0.8366\n"
          ]
        }
      ],
      "source": [
        "# Training CNN model\n",
        "print('Training CNN model...')\n",
        "r1=training_model.fit(\n",
        "  X_train, Y_train,\n",
        "  batch_size = 32,\n",
        "  epochs=30,\n",
        "  validation_split=0.2\n",
        ")"
      ]
    },
    {
      "cell_type": "code",
      "execution_count": null,
      "metadata": {
        "colab": {
          "base_uri": "https://localhost:8080/",
          "height": 430
        },
        "id": "zXo8a0ACzMPn",
        "outputId": "82115630-6be0-4a9f-c962-ceb14be4b5ad"
      },
      "outputs": [
        {
          "data": {
            "image/png": "[encoded data removed]",
            "text/plain": [
              "<Figure size 640x480 with 1 Axes>"
            ]
          },
          "metadata": {},
          "output_type": "display_data"
        }
      ],
      "source": [
        "# Ploting CNN model in terms of accuracy\n",
        "plt.plot(r1.history['accuracy'], label='acc')\n",
        "plt.plot(r1.history['val_accuracy'], label='val_acc')\n",
        "plt.legend()\n",
        "plt.show()"
      ]
    },
    {
      "cell_type": "code",
      "execution_count": null,
      "metadata": {
        "colab": {
          "base_uri": "https://localhost:8080/"
        },
        "id": "fTqiDzgi-xBU",
        "outputId": "5baf6427-78ab-4838-81e7-3128ef7e6b4b"
      },
      "outputs": [
        {
          "name": "stdout",
          "output_type": "stream",
          "text": [
            "Building CNN model...\n"
          ]
        }
      ],
      "source": [
        "# Sentiment analysis using CNN version 2 with different architecture:\n",
        "print('Building CNN model...')\n",
        "# train a 1D convnet with global maxpooling\n",
        "input_ = Input(shape=(MAX_SEQUENCE_LENGTH,))\n",
        "x = embedding_layer(input_)\n",
        "x = Conv1D(128, 3, activation='relu')(x)\n",
        "x = MaxPooling1D(3)(x)\n",
        "x = Conv1D(128, 3, activation='relu')(x)\n",
        "x = MaxPooling1D(3)(x)\n",
        "x = Conv1D(128, 3, activation='relu')(x)\n",
        "x = GlobalMaxPooling1D()(x)\n",
        "x = Dense(128, activation='relu')(x)\n",
        "x = Dense(64, activation='relu')(x)\n",
        "x = Dense(32, activation='relu')(x)\n",
        "output = Dense(1, activation='sigmoid')(x)\n",
        "\n"
      ]
    },
    {
      "cell_type": "code",
      "execution_count": null,
      "metadata": {
        "id": "gjGY0ppl-xHa"
      },
      "outputs": [],
      "source": [
        "model = Model(input_, output)\n",
        "model.compile(\n",
        "  loss='binary_crossentropy',\n",
        "  optimizer='rmsprop',\n",
        "  metrics=['accuracy']\n",
        ")"
      ]
    },
    {
      "cell_type": "code",
      "execution_count": null,
      "metadata": {
        "colab": {
          "base_uri": "https://localhost:8080/"
        },
        "id": "ei-F6dzw-xJ7",
        "outputId": "0d8ddbc4-f408-4172-cdb9-d1617e35d39e"
      },
      "outputs": [
        {
          "name": "stdout",
          "output_type": "stream",
          "text": [
            "Training model...\n",
            "Epoch 1/30\n",
            "3000/3000 [==============================] - 16s 5ms/step - loss: 0.4034 - accuracy: 0.8144 - val_loss: 0.5303 - val_accuracy: 0.7830\n",
            "Epoch 2/30\n",
            "3000/3000 [==============================] - 14s 5ms/step - loss: 0.3221 - accuracy: 0.8622 - val_loss: 0.3301 - val_accuracy: 0.8623\n",
            "Epoch 3/30\n",
            "3000/3000 [==============================] - 14s 5ms/step - loss: 0.2901 - accuracy: 0.8782 - val_loss: 0.3267 - val_accuracy: 0.8642\n",
            "Epoch 4/30\n",
            "3000/3000 [==============================] - 14s 5ms/step - loss: 0.2603 - accuracy: 0.8926 - val_loss: 0.3187 - val_accuracy: 0.8669\n",
            "Epoch 5/30\n",
            "3000/3000 [==============================] - 14s 5ms/step - loss: 0.2377 - accuracy: 0.9039 - val_loss: 0.3499 - val_accuracy: 0.8605\n",
            "Epoch 6/30\n",
            "3000/3000 [==============================] - 14s 5ms/step - loss: 0.2158 - accuracy: 0.9150 - val_loss: 0.3340 - val_accuracy: 0.8655\n",
            "Epoch 7/30\n",
            "3000/3000 [==============================] - 14s 5ms/step - loss: 0.1937 - accuracy: 0.9241 - val_loss: 0.3902 - val_accuracy: 0.8639\n",
            "Epoch 8/30\n",
            "3000/3000 [==============================] - 14s 5ms/step - loss: 0.1771 - accuracy: 0.9321 - val_loss: 0.4590 - val_accuracy: 0.8609\n",
            "Epoch 9/30\n",
            "3000/3000 [==============================] - 14s 5ms/step - loss: 0.1590 - accuracy: 0.9393 - val_loss: 0.5380 - val_accuracy: 0.8403\n",
            "Epoch 10/30\n",
            "3000/3000 [==============================] - 14s 5ms/step - loss: 0.1445 - accuracy: 0.9458 - val_loss: 0.6539 - val_accuracy: 0.8576\n",
            "Epoch 11/30\n",
            "3000/3000 [==============================] - 14s 5ms/step - loss: 0.1274 - accuracy: 0.9521 - val_loss: 0.7467 - val_accuracy: 0.8329\n",
            "Epoch 12/30\n",
            "3000/3000 [==============================] - 14s 5ms/step - loss: 0.1167 - accuracy: 0.9571 - val_loss: 0.9146 - val_accuracy: 0.8498\n",
            "Epoch 13/30\n",
            "3000/3000 [==============================] - 14s 5ms/step - loss: 0.1066 - accuracy: 0.9612 - val_loss: 0.5965 - val_accuracy: 0.8488\n",
            "Epoch 14/30\n",
            "3000/3000 [==============================] - 14s 5ms/step - loss: 0.0987 - accuracy: 0.9638 - val_loss: 0.7553 - val_accuracy: 0.8445\n",
            "Epoch 15/30\n",
            "3000/3000 [==============================] - 14s 5ms/step - loss: 0.0931 - accuracy: 0.9678 - val_loss: 0.7940 - val_accuracy: 0.8504\n",
            "Epoch 16/30\n",
            "3000/3000 [==============================] - 14s 5ms/step - loss: 0.0836 - accuracy: 0.9704 - val_loss: 1.3580 - val_accuracy: 0.8489\n",
            "Epoch 17/30\n",
            "3000/3000 [==============================] - 14s 5ms/step - loss: 0.0766 - accuracy: 0.9744 - val_loss: 1.2397 - val_accuracy: 0.8449\n",
            "Epoch 18/30\n",
            "3000/3000 [==============================] - 14s 5ms/step - loss: 0.0711 - accuracy: 0.9762 - val_loss: 1.4185 - val_accuracy: 0.8439\n",
            "Epoch 19/30\n",
            "3000/3000 [==============================] - 14s 5ms/step - loss: 0.0678 - accuracy: 0.9784 - val_loss: 1.8183 - val_accuracy: 0.8513\n",
            "Epoch 20/30\n",
            "3000/3000 [==============================] - 14s 5ms/step - loss: 0.0650 - accuracy: 0.9791 - val_loss: 1.2859 - val_accuracy: 0.8447\n",
            "Epoch 21/30\n",
            "3000/3000 [==============================] - 14s 5ms/step - loss: 0.0637 - accuracy: 0.9800 - val_loss: 2.3629 - val_accuracy: 0.8305\n",
            "Epoch 22/30\n",
            "3000/3000 [==============================] - 14s 5ms/step - loss: 0.0619 - accuracy: 0.9820 - val_loss: 2.2565 - val_accuracy: 0.8495\n",
            "Epoch 23/30\n",
            "3000/3000 [==============================] - 14s 5ms/step - loss: 0.0612 - accuracy: 0.9809 - val_loss: 2.7503 - val_accuracy: 0.8462\n",
            "Epoch 24/30\n",
            "3000/3000 [==============================] - 14s 5ms/step - loss: 0.0569 - accuracy: 0.9828 - val_loss: 2.7917 - val_accuracy: 0.8243\n",
            "Epoch 25/30\n",
            "3000/3000 [==============================] - 14s 5ms/step - loss: 0.0541 - accuracy: 0.9846 - val_loss: 3.0689 - val_accuracy: 0.8438\n",
            "Epoch 26/30\n",
            "3000/3000 [==============================] - 14s 5ms/step - loss: 0.0539 - accuracy: 0.9841 - val_loss: 1.7608 - val_accuracy: 0.8424\n",
            "Epoch 27/30\n",
            "3000/3000 [==============================] - 14s 5ms/step - loss: 0.0531 - accuracy: 0.9849 - val_loss: 3.0325 - val_accuracy: 0.8465\n",
            "Epoch 28/30\n",
            "3000/3000 [==============================] - 14s 5ms/step - loss: 0.0507 - accuracy: 0.9859 - val_loss: 2.5932 - val_accuracy: 0.8430\n",
            "Epoch 29/30\n",
            "3000/3000 [==============================] - 14s 5ms/step - loss: 0.0495 - accuracy: 0.9862 - val_loss: 2.3645 - val_accuracy: 0.8390\n",
            "Epoch 30/30\n",
            "3000/3000 [==============================] - 14s 5ms/step - loss: 0.0463 - accuracy: 0.9873 - val_loss: 3.8105 - val_accuracy: 0.8474\n"
          ]
        }
      ],
      "source": [
        "print('Training model...')\n",
        "r = model.fit(\n",
        "  X_train, Y_train,\n",
        "  batch_size=BATCH_SIZE,\n",
        "  epochs=EPOCHS,\n",
        "  validation_split=VALIDATION_SPLIT\n",
        ")"
      ]
    },
    {
      "cell_type": "code",
      "execution_count": null,
      "metadata": {
        "colab": {
          "base_uri": "https://localhost:8080/",
          "height": 430
        },
        "id": "DcesnH6y-xLe",
        "outputId": "cadc6a70-0dd5-4856-de7e-abc24c742250"
      },
      "outputs": [
        {
          "data": {
            "image/png": "[encoded data removed]",
            "text/plain": [
              "<Figure size 640x480 with 1 Axes>"
            ]
          },
          "metadata": {},
          "output_type": "display_data"
        }
      ],
      "source": [
        "# plot some data\n",
        "plt.plot(r.history['loss'], label='loss')\n",
        "plt.plot(r.history['val_loss'], label='val_loss')\n",
        "plt.legend()\n",
        "plt.show()"
      ]
    },
    {
      "cell_type": "code",
      "execution_count": null,
      "metadata": {
        "colab": {
          "base_uri": "https://localhost:8080/",
          "height": 430
        },
        "id": "JtInUWNq-xM8",
        "outputId": "f6bdfd51-2590-4843-a109-f9b78f357361"
      },
      "outputs": [
        {
          "data": {
            "image/png": "[encoded data removed]",
            "text/plain": [
              "<Figure size 640x480 with 1 Axes>"
            ]
          },
          "metadata": {},
          "output_type": "display_data"
        }
      ],
      "source": [
        "# accuracies\n",
        "plt.plot(r.history['accuracy'], label='acc')\n",
        "plt.plot(r.history['val_accuracy'], label='val_acc')\n",
        "plt.legend()\n",
        "plt.show()"
      ]
    },
    {
      "cell_type": "code",
      "execution_count": null,
      "metadata": {
        "id": "sbEl8Q1m0Suj"
      },
      "outputs": [],
      "source": [
        "from sklearn.metrics import confusion_matrix\n",
        "import seaborn as sns\n",
        "def ConfusionMatrix(y_pred, Y_test):\n",
        "    # Compute the Confusion matrix\n",
        "    cf_matrix = confusion_matrix(Y_test, y_pred)\n",
        "\n",
        "    # Define categories and group names\n",
        "    categories = ['Negative', 'Positive']\n",
        "    group_names = ['True Neg', 'False Pos', 'False Neg', 'True Pos']\n",
        "\n",
        "    # Calculate group percentages\n",
        "    total = np.sum(cf_matrix)\n",
        "    group_percentages = [f'{cf_matrix[i, j] / total:.2%}' for i in range(cf_matrix.shape[0]) for j in range(cf_matrix.shape[1])]\n",
        "\n",
        "    # Create labels\n",
        "    labels = np.asarray(group_names).reshape(2, 2)\n",
        "\n",
        "    # Plot the Confusion matrix\n",
        "    sns.heatmap(cf_matrix, annot=labels, cmap='Blues', fmt='', xticklabels=categories, yticklabels=categories)\n",
        "    plt.xlabel(\"Predicted values\", fontdict={'size': 14}, labelpad=10)\n",
        "    plt.ylabel(\"Actual values\", fontdict={'size': 14}, labelpad=10)\n",
        "    plt.title(\"Confusion Matrix\", fontdict={'size': 18}, pad=20)\n",
        "    plt.show()\n"
      ]
    },
    {
      "cell_type": "code",
      "execution_count": null,
      "metadata": {
        "colab": {
          "base_uri": "https://localhost:8080/",
          "height": 564
        },
        "id": "iAJJ-Us10UUk",
        "outputId": "d6d5643f-b740-470a-e3a5-dca19731e9ac"
      },
      "outputs": [
        {
          "name": "stdout",
          "output_type": "stream",
          "text": [
            "938/938 [==============================] - 2s 2ms/step\n",
            "Test accuracy_CNN: 0.8378666666666666\n",
            "Confusion Matrix: CNN\n"
          ]
        },
        {
          "data": {
            "image/png": "[encoded data removed]",
            "text/plain": [
              "<Figure size 640x480 with 2 Axes>"
            ]
          },
          "metadata": {},
          "output_type": "display_data"
        }
      ],
      "source": [
        "y_pred = training_model.predict(X_test)\n",
        "\n",
        "# Converting prediction to reflect the sentiment predicted.\n",
        "y_pred = np.where(y_pred>=0.5, 1, 0)\n",
        "\n",
        "# Evaluate accuracy\n",
        "accuracy = accuracy_score(Y_test, y_pred)\n",
        "print(f\"Test accuracy_CNN: {accuracy}\")"
      ]
    },
    {
      "cell_type": "markdown",
      "metadata": {
        "id": "nDOzNoJblvmP"
      },
      "source": [
        "### LSTM model"
      ]
    },
    {
      "cell_type": "code",
      "execution_count": null,
      "metadata": {
        "id": "g-bena70LfeJ"
      },
      "outputs": [],
      "source": [
        "#Sentiment analysis using LSTM\n",
        "from tensorflow.keras.layers import GlobalMaxPool1D\n",
        "# create an LSTM network with a single LSTM\n",
        "input_ = Input(shape=(MAX_SEQUENCE_LENGTH,))\n",
        "x = embedding_layer(input_)\n",
        "x = LSTM(15, return_sequences=True)(x)\n",
        "x = Dropout(0.2)(x)\n",
        "x = LSTM(15, return_sequences=True)(x)\n",
        "x = GlobalMaxPool1D()(x)\n",
        "x = Dense(128, activation='relu')(x)\n",
        "x = Dense(64, activation='relu')(x)\n",
        "x = Dense(32, activation='relu')(x)\n",
        "output = Dense(1, activation=\"sigmoid\")(x)\n",
        "\n",
        "\n",
        "model_LSTM = Model(input_, output)\n",
        "model_LSTM.compile(\n",
        "  loss='binary_crossentropy',\n",
        "  optimizer=Adam(learning_rate=0.01),\n",
        "  metrics=['accuracy'],\n",
        ")"
      ]
    },
    {
      "cell_type": "code",
      "execution_count": null,
      "metadata": {
        "colab": {
          "base_uri": "https://localhost:8080/"
        },
        "id": "Y9mHQC4WMlRp",
        "outputId": "0d827812-01ee-4afd-eee0-ec629e774d98"
      },
      "outputs": [
        {
          "name": "stdout",
          "output_type": "stream",
          "text": [
            "Training LSTM model for sentiment analysis...\n",
            "Epoch 1/30\n",
            "3000/3000 [==============================] - 35s 11ms/step - loss: 0.3779 - accuracy: 0.8309 - val_loss: 0.3434 - val_accuracy: 0.8560\n",
            "Epoch 2/30\n",
            "3000/3000 [==============================] - 33s 11ms/step - loss: 0.3247 - accuracy: 0.8605 - val_loss: 0.3175 - val_accuracy: 0.8648\n",
            "Epoch 3/30\n",
            "3000/3000 [==============================] - 33s 11ms/step - loss: 0.3100 - accuracy: 0.8673 - val_loss: 0.3225 - val_accuracy: 0.8585\n",
            "Epoch 4/30\n",
            "3000/3000 [==============================] - 33s 11ms/step - loss: 0.3001 - accuracy: 0.8716 - val_loss: 0.3016 - val_accuracy: 0.8714\n",
            "Epoch 5/30\n",
            "3000/3000 [==============================] - 33s 11ms/step - loss: 0.2915 - accuracy: 0.8753 - val_loss: 0.2962 - val_accuracy: 0.8740\n",
            "Epoch 6/30\n",
            "3000/3000 [==============================] - 33s 11ms/step - loss: 0.2923 - accuracy: 0.8756 - val_loss: 0.3180 - val_accuracy: 0.8657\n",
            "Epoch 7/30\n",
            "3000/3000 [==============================] - 33s 11ms/step - loss: 0.2846 - accuracy: 0.8785 - val_loss: 0.3145 - val_accuracy: 0.8704\n",
            "Epoch 8/30\n",
            "3000/3000 [==============================] - 33s 11ms/step - loss: 0.2794 - accuracy: 0.8817 - val_loss: 0.3006 - val_accuracy: 0.8710\n",
            "Epoch 9/30\n",
            "3000/3000 [==============================] - 34s 11ms/step - loss: 0.2831 - accuracy: 0.8801 - val_loss: 0.3122 - val_accuracy: 0.8704\n",
            "Epoch 10/30\n",
            "3000/3000 [==============================] - 33s 11ms/step - loss: 0.2796 - accuracy: 0.8817 - val_loss: 0.3014 - val_accuracy: 0.8742\n",
            "Epoch 11/30\n",
            "3000/3000 [==============================] - 33s 11ms/step - loss: 0.2762 - accuracy: 0.8831 - val_loss: 0.2950 - val_accuracy: 0.8745\n",
            "Epoch 12/30\n",
            "3000/3000 [==============================] - 33s 11ms/step - loss: 0.2740 - accuracy: 0.8848 - val_loss: 0.3154 - val_accuracy: 0.8670\n",
            "Epoch 13/30\n",
            "3000/3000 [==============================] - 33s 11ms/step - loss: 0.2716 - accuracy: 0.8860 - val_loss: 0.3206 - val_accuracy: 0.8692\n",
            "Epoch 14/30\n",
            "3000/3000 [==============================] - 33s 11ms/step - loss: 0.2708 - accuracy: 0.8867 - val_loss: 0.3050 - val_accuracy: 0.8680\n",
            "Epoch 15/30\n",
            "3000/3000 [==============================] - 33s 11ms/step - loss: 0.2703 - accuracy: 0.8864 - val_loss: 0.3173 - val_accuracy: 0.8632\n",
            "Epoch 16/30\n",
            "3000/3000 [==============================] - 33s 11ms/step - loss: 0.2689 - accuracy: 0.8877 - val_loss: 0.3075 - val_accuracy: 0.8681\n",
            "Epoch 17/30\n",
            "3000/3000 [==============================] - 33s 11ms/step - loss: 0.2673 - accuracy: 0.8877 - val_loss: 0.2973 - val_accuracy: 0.8752\n",
            "Epoch 18/30\n",
            "3000/3000 [==============================] - 33s 11ms/step - loss: 0.2666 - accuracy: 0.8889 - val_loss: 0.3255 - val_accuracy: 0.8610\n",
            "Epoch 19/30\n",
            "3000/3000 [==============================] - 33s 11ms/step - loss: 0.2956 - accuracy: 0.8734 - val_loss: 0.3436 - val_accuracy: 0.8498\n",
            "Epoch 20/30\n",
            "3000/3000 [==============================] - 33s 11ms/step - loss: 0.3171 - accuracy: 0.8626 - val_loss: 0.3717 - val_accuracy: 0.8405\n",
            "Epoch 21/30\n",
            "3000/3000 [==============================] - 33s 11ms/step - loss: 0.3045 - accuracy: 0.8688 - val_loss: 0.3363 - val_accuracy: 0.8483\n",
            "Epoch 22/30\n",
            "3000/3000 [==============================] - 33s 11ms/step - loss: 0.2974 - accuracy: 0.8726 - val_loss: 0.3307 - val_accuracy: 0.8555\n",
            "Epoch 23/30\n",
            "3000/3000 [==============================] - 33s 11ms/step - loss: 0.2845 - accuracy: 0.8785 - val_loss: 0.3804 - val_accuracy: 0.8253\n",
            "Epoch 24/30\n",
            "3000/3000 [==============================] - 33s 11ms/step - loss: 0.2845 - accuracy: 0.8780 - val_loss: 0.3297 - val_accuracy: 0.8605\n",
            "Epoch 25/30\n",
            "3000/3000 [==============================] - 33s 11ms/step - loss: 0.2741 - accuracy: 0.8842 - val_loss: 0.3083 - val_accuracy: 0.8679\n",
            "Epoch 26/30\n",
            "3000/3000 [==============================] - 33s 11ms/step - loss: 0.2729 - accuracy: 0.8855 - val_loss: 0.2994 - val_accuracy: 0.8708\n",
            "Epoch 27/30\n",
            "3000/3000 [==============================] - 33s 11ms/step - loss: 0.2768 - accuracy: 0.8831 - val_loss: 0.3165 - val_accuracy: 0.8635\n",
            "Epoch 28/30\n",
            "3000/3000 [==============================] - 33s 11ms/step - loss: 0.2949 - accuracy: 0.8745 - val_loss: 0.3143 - val_accuracy: 0.8660\n",
            "Epoch 29/30\n",
            "3000/3000 [==============================] - 33s 11ms/step - loss: 0.2935 - accuracy: 0.8744 - val_loss: 0.3120 - val_accuracy: 0.8690\n",
            "Epoch 30/30\n",
            "3000/3000 [==============================] - 33s 11ms/step - loss: 0.2841 - accuracy: 0.8794 - val_loss: 0.2994 - val_accuracy: 0.8710\n"
          ]
        }
      ],
      "source": [
        "print('Training LSTM model for sentiment analysis...')\n",
        "r_LSTM = model_LSTM.fit(\n",
        "  X_train, Y_train,\n",
        "  batch_size=BATCH_SIZE,\n",
        "  epochs=EPOCHS,\n",
        "  validation_split=VALIDATION_SPLIT\n",
        ")"
      ]
    },
    {
      "cell_type": "code",
      "execution_count": null,
      "metadata": {
        "colab": {
          "base_uri": "https://localhost:8080/",
          "height": 430
        },
        "id": "6Ygc6EZ8W6nH",
        "outputId": "536910cd-6d9a-42e5-a8ce-8ee1664505bb"
      },
      "outputs": [
        {
          "data": {
            "image/png": "[encoded data removed]",
            "text/plain": [
              "<Figure size 640x480 with 1 Axes>"
            ]
          },
          "metadata": {},
          "output_type": "display_data"
        }
      ],
      "source": [
        "plt.plot(r_LSTM.history['accuracy'], label='acc')\n",
        "plt.plot(r_LSTM.history['val_accuracy'], label='val_acc')\n",
        "plt.legend()\n",
        "plt.show()"
      ]
    },
    {
      "cell_type": "code",
      "execution_count": null,
      "metadata": {
        "colab": {
          "base_uri": "https://localhost:8080/",
          "height": 564
        },
        "id": "YVMCTyyJ39ZO",
        "outputId": "a6f6f3ed-4602-4305-8848-e87f80b7c776"
      },
      "outputs": [
        {
          "name": "stdout",
          "output_type": "stream",
          "text": [
            "938/938 [==============================] - 4s 4ms/step\n",
            "Test accuracy_LSTM: 0.8758333333333334\n",
            "Confusion Matrix: LSTM model\n"
          ]
        },
        {
          "data": {
            "image/png": "[encoded data removed]",
            "text/plain": [
              "<Figure size 640x480 with 2 Axes>"
            ]
          },
          "metadata": {},
          "output_type": "display_data"
        }
      ],
      "source": [
        "# Predicting on the Test dataset.\n",
        "y_pred_lstm = model_LSTM.predict(X_test)\n",
        "\n",
        "# Converting prediction to reflect the sentiment predicted.\n",
        "y_pred_lstm = np.where(y_pred_lstm >=0.5, 1, 0)\n",
        "\n",
        "# Evaluate accuracy\n",
        "accuracy_lstm = accuracy_score(Y_test, y_pred_lstm)\n",
        "print(f\"Test accuracy_LSTM: {accuracy_lstm}\")\n",
        "\n",
        "# Printing out the Evaluation metrics.\n",
        "print (\"Confusion Matrix: LSTM model\")\n",
        "ConfusionMatrix(y_pred_lstm, Y_test)"
      ]
    },
    {
      "cell_type": "markdown",
      "metadata": {
        "id": "bzK-LF3Wl7g9"
      },
      "source": [
        "###Sentiment analysis using bidirectonal RNN"
      ]
    },
    {
      "cell_type": "code",
      "execution_count": null,
      "metadata": {
        "id": "Tr0DDsGELfgs"
      },
      "outputs": [],
      "source": [
        "# create an LSTM network with a single LSTM but with birectional model\n",
        "input_ = Input(shape=(MAX_SEQUENCE_LENGTH,))\n",
        "x = embedding_layer(input_)\n",
        "#x = LSTM(15, return_sequences=True)(x)\n",
        "x = Bidirectional(LSTM(15, return_sequences=True))(x)\n",
        "x = GlobalMaxPool1D()(x)\n",
        "output = Dense(1, activation=\"sigmoid\")(x)\n",
        "\n",
        "model_bi = Model(input_, output)\n",
        "model_bi.compile(\n",
        "  loss='binary_crossentropy',\n",
        "  optimizer=Adam(learning_rate=0.01),\n",
        "  metrics=['accuracy'],\n",
        ")"
      ]
    },
    {
      "cell_type": "code",
      "execution_count": null,
      "metadata": {
        "colab": {
          "base_uri": "https://localhost:8080/"
        },
        "id": "kbE3DUyMwhqi",
        "outputId": "71c29d58-f5a2-4bea-b1cd-e3205b1c67e7"
      },
      "outputs": [
        {
          "name": "stdout",
          "output_type": "stream",
          "text": [
            "Training birectional_LSTM model for sentiment analysis...\n",
            "Epoch 1/30\n",
            "3000/3000 [==============================] - 34s 10ms/step - loss: 0.3425 - accuracy: 0.8486 - val_loss: 0.3152 - val_accuracy: 0.8658\n",
            "Epoch 2/30\n",
            "3000/3000 [==============================] - 31s 10ms/step - loss: 0.3045 - accuracy: 0.8679 - val_loss: 0.3036 - val_accuracy: 0.8700\n",
            "Epoch 3/30\n",
            "3000/3000 [==============================] - 31s 10ms/step - loss: 0.2895 - accuracy: 0.8765 - val_loss: 0.2994 - val_accuracy: 0.8724\n",
            "Epoch 4/30\n",
            "3000/3000 [==============================] - 31s 10ms/step - loss: 0.2813 - accuracy: 0.8807 - val_loss: 0.3006 - val_accuracy: 0.8737\n",
            "Epoch 5/30\n",
            "3000/3000 [==============================] - 31s 10ms/step - loss: 0.2746 - accuracy: 0.8844 - val_loss: 0.2984 - val_accuracy: 0.8754\n",
            "Epoch 6/30\n",
            "3000/3000 [==============================] - 31s 10ms/step - loss: 0.2698 - accuracy: 0.8864 - val_loss: 0.3022 - val_accuracy: 0.8719\n",
            "Epoch 7/30\n",
            "3000/3000 [==============================] - 31s 10ms/step - loss: 0.2637 - accuracy: 0.8896 - val_loss: 0.2989 - val_accuracy: 0.8759\n",
            "Epoch 8/30\n",
            "3000/3000 [==============================] - 31s 10ms/step - loss: 0.2579 - accuracy: 0.8911 - val_loss: 0.2999 - val_accuracy: 0.8743\n",
            "Epoch 9/30\n",
            "3000/3000 [==============================] - 31s 10ms/step - loss: 0.2534 - accuracy: 0.8941 - val_loss: 0.3002 - val_accuracy: 0.8749\n",
            "Epoch 10/30\n",
            "3000/3000 [==============================] - 31s 10ms/step - loss: 0.2496 - accuracy: 0.8958 - val_loss: 0.3002 - val_accuracy: 0.8726\n",
            "Epoch 11/30\n",
            "3000/3000 [==============================] - 31s 10ms/step - loss: 0.2465 - accuracy: 0.8980 - val_loss: 0.3013 - val_accuracy: 0.8730\n",
            "Epoch 12/30\n",
            "3000/3000 [==============================] - 31s 10ms/step - loss: 0.2452 - accuracy: 0.8976 - val_loss: 0.3036 - val_accuracy: 0.8731\n",
            "Epoch 13/30\n",
            "3000/3000 [==============================] - 31s 10ms/step - loss: 0.2416 - accuracy: 0.8989 - val_loss: 0.3012 - val_accuracy: 0.8774\n",
            "Epoch 14/30\n",
            "3000/3000 [==============================] - 31s 10ms/step - loss: 0.2375 - accuracy: 0.9010 - val_loss: 0.3030 - val_accuracy: 0.8740\n",
            "Epoch 15/30\n",
            "3000/3000 [==============================] - 31s 10ms/step - loss: 0.2360 - accuracy: 0.9022 - val_loss: 0.3007 - val_accuracy: 0.8769\n",
            "Epoch 16/30\n",
            "3000/3000 [==============================] - 31s 10ms/step - loss: 0.2349 - accuracy: 0.9037 - val_loss: 0.3034 - val_accuracy: 0.8742\n",
            "Epoch 17/30\n",
            "3000/3000 [==============================] - 31s 10ms/step - loss: 0.2316 - accuracy: 0.9042 - val_loss: 0.3028 - val_accuracy: 0.8771\n",
            "Epoch 18/30\n",
            "3000/3000 [==============================] - 31s 10ms/step - loss: 0.2288 - accuracy: 0.9056 - val_loss: 0.3016 - val_accuracy: 0.8770\n",
            "Epoch 19/30\n",
            "3000/3000 [==============================] - 31s 10ms/step - loss: 0.2272 - accuracy: 0.9061 - val_loss: 0.3051 - val_accuracy: 0.8769\n",
            "Epoch 20/30\n",
            "3000/3000 [==============================] - 31s 10ms/step - loss: 0.2262 - accuracy: 0.9069 - val_loss: 0.3056 - val_accuracy: 0.8743\n",
            "Epoch 21/30\n",
            "3000/3000 [==============================] - 31s 10ms/step - loss: 0.2259 - accuracy: 0.9068 - val_loss: 0.3039 - val_accuracy: 0.8761\n",
            "Epoch 22/30\n",
            "3000/3000 [==============================] - 31s 10ms/step - loss: 0.2226 - accuracy: 0.9087 - val_loss: 0.3082 - val_accuracy: 0.8762\n",
            "Epoch 23/30\n",
            "3000/3000 [==============================] - 31s 10ms/step - loss: 0.2216 - accuracy: 0.9088 - val_loss: 0.3041 - val_accuracy: 0.8742\n",
            "Epoch 24/30\n",
            "3000/3000 [==============================] - 31s 10ms/step - loss: 0.2206 - accuracy: 0.9089 - val_loss: 0.3065 - val_accuracy: 0.8751\n",
            "Epoch 25/30\n",
            "3000/3000 [==============================] - 31s 10ms/step - loss: 0.2196 - accuracy: 0.9097 - val_loss: 0.3103 - val_accuracy: 0.8744\n",
            "Epoch 26/30\n",
            "3000/3000 [==============================] - 31s 10ms/step - loss: 0.2188 - accuracy: 0.9098 - val_loss: 0.3050 - val_accuracy: 0.8737\n",
            "Epoch 27/30\n",
            "3000/3000 [==============================] - 31s 10ms/step - loss: 0.2154 - accuracy: 0.9118 - val_loss: 0.3134 - val_accuracy: 0.8735\n",
            "Epoch 28/30\n",
            "3000/3000 [==============================] - 31s 10ms/step - loss: 0.2167 - accuracy: 0.9100 - val_loss: 0.3112 - val_accuracy: 0.8731\n",
            "Epoch 29/30\n",
            "3000/3000 [==============================] - 31s 10ms/step - loss: 0.2156 - accuracy: 0.9116 - val_loss: 0.3072 - val_accuracy: 0.8749\n",
            "Epoch 30/30\n",
            "3000/3000 [==============================] - 31s 10ms/step - loss: 0.2121 - accuracy: 0.9135 - val_loss: 0.3091 - val_accuracy: 0.8740\n"
          ]
        }
      ],
      "source": [
        "print('Training birectional_LSTM model for sentiment analysis...')\n",
        "r_Bi_LSTM = model_bi.fit(\n",
        "  X_train, Y_train,\n",
        "  batch_size=BATCH_SIZE,\n",
        "  epochs=EPOCHS,\n",
        "  validation_split=VALIDATION_SPLIT\n",
        ")"
      ]
    },
    {
      "cell_type": "code",
      "execution_count": null,
      "metadata": {
        "colab": {
          "base_uri": "https://localhost:8080/",
          "height": 430
        },
        "id": "ThnGD7-FQtVE",
        "outputId": "2d2fa277-9cc7-404b-ed3e-70804b184254"
      },
      "outputs": [
        {
          "data": {
            "image/png": "[encoded data removed]",
            "text/plain": [
              "<Figure size 640x480 with 1 Axes>"
            ]
          },
          "metadata": {},
          "output_type": "display_data"
        }
      ],
      "source": [
        "plt.plot(r_Bi_LSTM.history['accuracy'], label='acc')\n",
        "plt.plot(r_Bi_LSTM.history['val_accuracy'], label='val_acc')\n",
        "plt.legend()\n",
        "plt.show()"
      ]
    },
    {
      "cell_type": "code",
      "execution_count": null,
      "metadata": {
        "colab": {
          "base_uri": "https://localhost:8080/",
          "height": 564
        },
        "id": "27LhJThUQtX0",
        "outputId": "04da7ec1-aed1-45fb-f07e-26e50303d8b7"
      },
      "outputs": [
        {
          "name": "stdout",
          "output_type": "stream",
          "text": [
            "938/938 [==============================] - 5s 4ms/step\n",
            "Test accuracy_birectional LSTM: 0.8748666666666667\n",
            "Confusion Matrix: Birectional LSTM model\n"
          ]
        },
        {
          "data": {
            "image/png": "[encoded data removed]",
            "text/plain": [
              "<Figure size 640x480 with 2 Axes>"
            ]
          },
          "metadata": {},
          "output_type": "display_data"
        }
      ],
      "source": [
        "y_pred_bilstm = model_bi.predict(X_test)\n",
        "# Converting prediction to reflect the sentiment predicted.\n",
        "y_pred_bilstm = np.where(y_pred_bilstm >=0.5, 1, 0)\n",
        "\n",
        "# Evaluate accuracy\n",
        "accuracy_bilstm = accuracy_score(Y_test, y_pred_bilstm)\n",
        "print(f\"Test accuracy_birectional LSTM: {accuracy_bilstm}\")\n",
        "\n",
        "# Printing out the Evaluation metrics.\n",
        "print (\"Confusion Matrix: Birectional LSTM model\")\n",
        "ConfusionMatrix(y_pred_bilstm, Y_test)"
      ]
    },
    {
      "cell_type": "code",
      "execution_count": null,
      "metadata": {
        "id": "oM6F_la4QtaY"
      },
      "outputs": [],
      "source": [
        "# Customized Birectional LSTM:\n",
        "input_ = Input(shape=(MAX_SEQUENCE_LENGTH,))\n",
        "x = embedding_layer(input_)\n",
        "#x = LSTM(15, return_sequences=True)(x)\n",
        "x = Bidirectional(LSTM(100, return_sequences=True))(x)\n",
        "x = Dropout(0.5)(x)\n",
        "x = Bidirectional(LSTM(100))(x)\n",
        "x = Dropout(0.5)(x)\n",
        "x = Dense(64, activation='relu')(x)\n",
        "x = Dropout(0.5)(x)\n",
        "x = Dense(16, activation='relu')(x)\n",
        "x = Dropout(0.5)(x)\n",
        "output = Dense(1, activation='sigmoid')(x)\n",
        "\n",
        "model_bi_2 = Model(input_, output, name=\"Sentiment_Model_BiLSTM_version_2\" )\n",
        "model_bi_2.compile(\n",
        "  loss='binary_crossentropy',\n",
        "  optimizer=Adam(learning_rate=0.01),\n",
        "  metrics=['accuracy'],\n",
        ")"
      ]
    },
    {
      "cell_type": "code",
      "execution_count": null,
      "metadata": {
        "colab": {
          "base_uri": "https://localhost:8080/"
        },
        "id": "GwNl5NQ3QtgA",
        "outputId": "a0c09369-3579-485c-f78e-69bfcecc8bbf"
      },
      "outputs": [
        {
          "name": "stdout",
          "output_type": "stream",
          "text": [
            "Epoch 1/30\n",
            "3000/3000 [==============================] - 62s 19ms/step - loss: 0.5326 - accuracy: 0.7376 - val_loss: 0.4141 - val_accuracy: 0.8100\n",
            "Epoch 2/30\n",
            "3000/3000 [==============================] - 54s 18ms/step - loss: 0.4834 - accuracy: 0.7859 - val_loss: 0.4123 - val_accuracy: 0.8167\n",
            "Epoch 3/30\n",
            "3000/3000 [==============================] - 54s 18ms/step - loss: 0.4709 - accuracy: 0.7941 - val_loss: 0.4016 - val_accuracy: 0.8179\n",
            "Epoch 4/30\n",
            "3000/3000 [==============================] - 55s 18ms/step - loss: 0.4858 - accuracy: 0.7857 - val_loss: 0.5607 - val_accuracy: 0.6884\n",
            "Epoch 5/30\n",
            "3000/3000 [==============================] - 55s 18ms/step - loss: 0.5055 - accuracy: 0.7699 - val_loss: 0.4770 - val_accuracy: 0.7594\n",
            "Epoch 6/30\n",
            "3000/3000 [==============================] - 54s 18ms/step - loss: 0.5445 - accuracy: 0.7344 - val_loss: 0.4794 - val_accuracy: 0.7688\n",
            "Epoch 7/30\n",
            "3000/3000 [==============================] - 54s 18ms/step - loss: 0.5183 - accuracy: 0.7553 - val_loss: 0.4499 - val_accuracy: 0.8066\n",
            "Epoch 8/30\n",
            "3000/3000 [==============================] - 54s 18ms/step - loss: 0.5500 - accuracy: 0.7290 - val_loss: 0.4766 - val_accuracy: 0.7986\n",
            "Epoch 9/30\n",
            "3000/3000 [==============================] - 54s 18ms/step - loss: 0.6225 - accuracy: 0.6572 - val_loss: 0.6029 - val_accuracy: 0.6790\n",
            "Epoch 10/30\n",
            "3000/3000 [==============================] - 54s 18ms/step - loss: 0.6346 - accuracy: 0.6444 - val_loss: 0.5775 - val_accuracy: 0.7207\n",
            "Epoch 11/30\n",
            "3000/3000 [==============================] - 54s 18ms/step - loss: 0.6128 - accuracy: 0.6781 - val_loss: 0.5733 - val_accuracy: 0.7415\n",
            "Epoch 12/30\n",
            "3000/3000 [==============================] - 54s 18ms/step - loss: 0.6180 - accuracy: 0.6734 - val_loss: 0.6130 - val_accuracy: 0.6684\n",
            "Epoch 13/30\n",
            "3000/3000 [==============================] - 54s 18ms/step - loss: 0.6307 - accuracy: 0.6480 - val_loss: 0.5978 - val_accuracy: 0.6838\n",
            "Epoch 14/30\n",
            "3000/3000 [==============================] - 54s 18ms/step - loss: 0.6067 - accuracy: 0.6820 - val_loss: 0.5625 - val_accuracy: 0.7575\n",
            "Epoch 15/30\n",
            "3000/3000 [==============================] - 54s 18ms/step - loss: 0.6215 - accuracy: 0.6617 - val_loss: 0.5850 - val_accuracy: 0.6990\n",
            "Epoch 16/30\n",
            "3000/3000 [==============================] - 54s 18ms/step - loss: 0.6253 - accuracy: 0.6681 - val_loss: 0.5865 - val_accuracy: 0.7246\n",
            "Epoch 17/30\n",
            "3000/3000 [==============================] - 54s 18ms/step - loss: 0.6297 - accuracy: 0.6503 - val_loss: 0.6063 - val_accuracy: 0.6730\n",
            "Epoch 18/30\n",
            "3000/3000 [==============================] - 54s 18ms/step - loss: 0.6443 - accuracy: 0.6349 - val_loss: 0.6590 - val_accuracy: 0.5882\n",
            "Epoch 19/30\n",
            "3000/3000 [==============================] - 54s 18ms/step - loss: 0.6595 - accuracy: 0.6096 - val_loss: 0.6668 - val_accuracy: 0.5689\n",
            "Epoch 20/30\n",
            "3000/3000 [==============================] - 54s 18ms/step - loss: 0.6375 - accuracy: 0.6296 - val_loss: 0.5988 - val_accuracy: 0.7335\n",
            "Epoch 21/30\n",
            "3000/3000 [==============================] - 54s 18ms/step - loss: 0.6356 - accuracy: 0.6495 - val_loss: 0.6332 - val_accuracy: 0.6891\n",
            "Epoch 22/30\n",
            "3000/3000 [==============================] - 55s 18ms/step - loss: 0.6186 - accuracy: 0.6732 - val_loss: 0.5748 - val_accuracy: 0.7479\n",
            "Epoch 23/30\n",
            "3000/3000 [==============================] - 54s 18ms/step - loss: 0.6279 - accuracy: 0.6572 - val_loss: 0.6249 - val_accuracy: 0.6533\n",
            "Epoch 24/30\n",
            "3000/3000 [==============================] - 54s 18ms/step - loss: 0.6150 - accuracy: 0.6786 - val_loss: 0.5609 - val_accuracy: 0.7344\n",
            "Epoch 25/30\n",
            "3000/3000 [==============================] - 54s 18ms/step - loss: 0.6379 - accuracy: 0.6470 - val_loss: 0.6138 - val_accuracy: 0.6974\n",
            "Epoch 26/30\n",
            "3000/3000 [==============================] - 54s 18ms/step - loss: 0.6318 - accuracy: 0.6312 - val_loss: 0.6021 - val_accuracy: 0.6987\n",
            "Epoch 27/30\n",
            "2852/3000 [===========================>..] - ETA: 2s - loss: 0.6232 - accuracy: 0.6543"
          ]
        }
      ],
      "source": [
        "#print('Training birectional_LSTM model version 2 for sentiment analysis...')\n",
        "r_Bi_LSTM_2 = model_bi_2.fit(\n",
        "  X_train, Y_train,\n",
        "  batch_size=BATCH_SIZE,\n",
        "  epochs=EPOCHS,\n",
        "  validation_split=VALIDATION_SPLIT\n",
        ")\n",
        "\n"
      ]
    },
    {
      "cell_type": "code",
      "execution_count": null,
      "metadata": {
        "id": "-iHC8N4BLfjV"
      },
      "outputs": [],
      "source": [
        "plt.plot(r_Bi_LSTM_2.history['accuracy'], label='acc')\n",
        "plt.plot(r_Bi_LSTM_2.history['val_accuracy'], label='val_acc')\n",
        "plt.legend()\n",
        "plt.show()"
      ]
    },
    {
      "cell_type": "code",
      "execution_count": null,
      "metadata": {
        "id": "-C8Sh8tiBRkV"
      },
      "outputs": [],
      "source": [
        "y_pred_bilstm_2 = model_bi_2.predict(X_test)\n",
        "\n",
        "# Converting prediction to reflect the sentiment predicted.\n",
        "y_pred_bilstm_2 = np.where(y_pred_bilstm_2 >=0.5, 1, 0)\n",
        "\n",
        "# Evaluate accuracy\n",
        "accuracy_bilstm_2 = accuracy_score(Y_test, y_pred_bilstm_2)\n",
        "print(f\"Test accuracy_birectional LSTM: {accuracy_bilstm_2}\")\n",
        "\n",
        "# Printing out the Evaluation metrics.\n",
        "print (\"Confusion Matrix: Birectional LSTM model version 2\")\n",
        "ConfusionMatrix(y_pred_bilstm_2, Y_test)"
      ]
    },
    {
      "cell_type": "markdown",
      "metadata": {
        "id": "0q_YOmvgmFI8"
      },
      "source": [
        "### Gru multiplayer and birectional LSTM model :"
      ]
    },
    {
      "cell_type": "code",
      "execution_count": null,
      "metadata": {
        "id": "nea6y14mQlvl"
      },
      "outputs": [],
      "source": [
        "input_ = Input(shape=(MAX_SEQUENCE_LENGTH,))\n",
        "x = embedding_layer(input_)\n",
        "#x = LSTM(15, return_sequences=True)(x)\n",
        "x = Bidirectional(GRU(64, return_sequences=True))(x)\n",
        "x = Bidirectional(GRU(32))(x)\n",
        "x = Dropout(0.5)(x)\n",
        "x = Dense(64, activation='relu')(x)\n",
        "x = Dropout(0.5)(x)\n",
        "output = Dense(1, activation='sigmoid')(x)\n",
        "\n",
        "model_GRU = Model(input_, output, name=\"Sentiment_Model_GRU\" )\n",
        "model_GRU.compile(\n",
        "  loss='binary_crossentropy',\n",
        "  optimizer=Adam(learning_rate=0.01),\n",
        "  metrics=['accuracy'],\n",
        ")"
      ]
    },
    {
      "cell_type": "code",
      "execution_count": null,
      "metadata": {
        "id": "_GwTjMm5PYvZ"
      },
      "outputs": [],
      "source": [
        "r_gru = model_GRU.fit(\n",
        "  X_train, Y_train,\n",
        "  batch_size=BATCH_SIZE,\n",
        "  epochs=EPOCHS,\n",
        "  validation_split=VALIDATION_SPLIT\n",
        ")"
      ]
    },
    {
      "cell_type": "code",
      "execution_count": null,
      "metadata": {
        "id": "Bv9sPrTbQCl2"
      },
      "outputs": [],
      "source": [
        "plt.plot(r_gru).history['accuracy'], label='acc')\n",
        "plt.plot(r_gru.history['val_accuracy'], label='val_acc')\n",
        "plt.legend()\n",
        "plt.show()"
      ]
    },
    {
      "cell_type": "code",
      "execution_count": null,
      "metadata": {
        "id": "AlKuRPrEmud2"
      },
      "outputs": [],
      "source": [
        "from google.colab import drive\n",
        "drive.mount('/content/drive')\n"
      ]
    }
  ],
  "metadata": {
    "accelerator": "GPU",
    "colab": {
      "gpuType": "L4",
      "provenance": []
    },
    "kernelspec": {
      "display_name": "Python 3",
      "name": "python3"
    },
    "language_info": {
      "name": "python"
    }
  },
  "nbformat": 4,
  "nbformat_minor": 0
}